{
 "cells": [
  {
   "cell_type": "markdown",
   "metadata": {},
   "source": [
    "# 2. Control de Flujo\n",
    "\n",
    "Con el fin de escribir programas útiles, casi siempre necesitamos la capacidad de verificar las condiciones y cambiar el comportamiento del programa. Las declaraciones condicionales nos dan esta habilidad. Para ello usaremos las instrucciones de control de flujo.\n",
    "\n",
    "El control de flujo se refiere al orden en que se ejecutan las instrucciones que tenemos en el programa.\n",
    "El orden puede ser ascendente, descendente o podemos ejecutar un conjunto de instrucciones alguna determinada cantidad de veces en donde se modifique algunos valores y hasta que el valor cumple alguna condición se dejen de ejecutar esas instrucciones.\n",
    "Determinar el orden de las instrucciones depende primordialmente de el algoritmo que queremos desarrollar en el programa."
   ]
  },
  {
   "cell_type": "markdown",
   "metadata": {},
   "source": [
    "![Alt text](images/diagram.png \"Optional title\")"
   ]
  },
  {
   "cell_type": "markdown",
   "metadata": {
    "collapsed": true
   },
   "source": [
    "En un diagrama de flujo, generalmente hay más de una manera de ir desde el principio hasta el final. Lo mismo ocurre en las líneas de código de un programa de computadora. Los diagramas de flujo representan estos puntos de decision con diamantes, mientras que los otros pasos se representan con rectángulos. Los pasos inicial y final se representan con rectángulos redondeados. Pero antes de aprender sobre las declaraciones de control de flujo, primero debe aprender cómo representar esas opciones de sí y no, y necesita entender cómo escribir esos puntos de ramificación como código de Python. Para ello, recordaremos los valores booleanos y los operadores de comparación"
   ]
  },
  {
   "cell_type": "code",
   "execution_count": 1,
   "metadata": {
    "collapsed": true
   },
   "outputs": [],
   "source": [
    "a = 2\n",
    "b = 10\n",
    "c = 6\n",
    "d = 4 \n",
    "e = 5\n",
    "f = 6"
   ]
  },
  {
   "cell_type": "code",
   "execution_count": 2,
   "metadata": {
    "collapsed": false
   },
   "outputs": [
    {
     "data": {
      "text/plain": [
       "False"
      ]
     },
     "execution_count": 2,
     "metadata": {},
     "output_type": "execute_result"
    }
   ],
   "source": [
    "a >= b"
   ]
  },
  {
   "cell_type": "code",
   "execution_count": 3,
   "metadata": {
    "collapsed": false
   },
   "outputs": [
    {
     "data": {
      "text/plain": [
       "True"
      ]
     },
     "execution_count": 3,
     "metadata": {},
     "output_type": "execute_result"
    }
   ],
   "source": [
    "c == f"
   ]
  },
  {
   "cell_type": "code",
   "execution_count": 4,
   "metadata": {
    "collapsed": false
   },
   "outputs": [
    {
     "data": {
      "text/plain": [
       "True"
      ]
     },
     "execution_count": 4,
     "metadata": {},
     "output_type": "execute_result"
    }
   ],
   "source": [
    "e != a"
   ]
  },
  {
   "cell_type": "markdown",
   "metadata": {},
   "source": [
    "## Estructuras de seleccion"
   ]
  },
  {
   "cell_type": "markdown",
   "metadata": {
    "collapsed": true
   },
   "source": [
    "### Sentencia if"
   ]
  },
  {
   "cell_type": "markdown",
   "metadata": {},
   "source": [
    "El tipo más común de instrucción de control de flujo es la sentencia if. Una cláusula if statement (es decir, el bloque que sigue a la sentencia if) se ejecutará si la condición de la sentencia es True. La cláusula se omite si la condición es False."
   ]
  },
  {
   "cell_type": "markdown",
   "metadata": {},
   "source": [
    "Por ejemplo el programa:"
   ]
  },
  {
   "cell_type": "code",
   "execution_count": 5,
   "metadata": {
    "collapsed": false
   },
   "outputs": [
    {
     "name": "stdout",
     "output_type": "stream",
     "text": [
      "Ingrese su nombre: \n",
      "Samuel\n",
      "Hola samuel\n"
     ]
    }
   ],
   "source": [
    "print(\"Ingrese su nombre: \")\n",
    "name = input()\n",
    "if name == \"Samuel\":\n",
    "    print(\"Hola samuel\")    "
   ]
  },
  {
   "cell_type": "markdown",
   "metadata": {},
   "source": [
    "![Alt text](images/flujo1.png \"El diagrama de flujo de una sentencia if\")"
   ]
  },
  {
   "cell_type": "markdown",
   "metadata": {},
   "source": [
    "### Sentencia Else"
   ]
  },
  {
   "cell_type": "markdown",
   "metadata": {},
   "source": [
    "Una cláusula if puede ser seguida opcionalmente por una sentencia else. La cláusula else se ejecuta sólo cuando la condición de la instrucción if es False. Una instrucción else se podría leer como: \"Si esta condición es verdadera, ejecute este código. O bien, ejecutar ese código. \"Una instrucción else no tiene una condición, y en código, un ejemplo de ello sería:"
   ]
  },
  {
   "cell_type": "code",
   "execution_count": 6,
   "metadata": {
    "collapsed": false
   },
   "outputs": [
    {
     "name": "stdout",
     "output_type": "stream",
     "text": [
      "Desaprobaste\n"
     ]
    }
   ],
   "source": [
    "estado = \"F\"\n",
    "if estado == \"A\":\n",
    "    print(\"Has aprobado\")\n",
    "else:\n",
    "    print(\"Desaprobaste\")"
   ]
  },
  {
   "cell_type": "markdown",
   "metadata": {},
   "source": [
    "![Alt text](images/flujo2.png \"El diagrama de flujo de una sentencia if y else\")"
   ]
  },
  {
   "cell_type": "markdown",
   "metadata": {},
   "source": [
    "### Sentencia elif"
   ]
  },
  {
   "cell_type": "markdown",
   "metadata": {},
   "source": [
    "Mientras que sólo una de las cláusulas if o else se ejecutará, es posible que tenga un caso en el que desee ejecutar una de las muchas cláusulas posibles. La instrucción elif es una instrucción \"else if\" que sigue siempre después de una if o otra sentencia elif. Proporciona otra condición que se comprueba sólo si alguna de las condiciones anteriores eran falsas. Un ejemplo:"
   ]
  },
  {
   "cell_type": "code",
   "execution_count": 7,
   "metadata": {
    "collapsed": false
   },
   "outputs": [
    {
     "name": "stdout",
     "output_type": "stream",
     "text": [
      "El pez que compraste es caballa\n"
     ]
    }
   ],
   "source": [
    "pez = 'caballa'\n",
    "\n",
    "if pez == 'atún':\n",
    "    print(\"El pez que compraste es atún\")\n",
    "elif pez == 'caballa':\n",
    "    print(\"El pez que compraste es caballa\")\n",
    "else :\n",
    "    print(\"¿Qué habrás comprado? D:\")"
   ]
  },
  {
   "cell_type": "markdown",
   "metadata": {},
   "source": [
    "![Alt text](images/flujo3.png \"El diagrama de flujo de una sentencia if ,elif,else\")"
   ]
  },
  {
   "cell_type": "markdown",
   "metadata": {},
   "source": [
    "Ahora vamos a mostrar un programa que sirve para determinar si un año es bisiesto o no"
   ]
  },
  {
   "cell_type": "code",
   "execution_count": 8,
   "metadata": {
    "collapsed": false
   },
   "outputs": [
    {
     "name": "stdout",
     "output_type": "stream",
     "text": [
      "Ingrese un año: 2010\n",
      "El año 2010 no es bisiesto\n"
     ]
    }
   ],
   "source": [
    "anio=input(\"Ingrese un año: \")\n",
    "year = int(anio)\n",
    "#Un año es bisiesto si es divisible entre 4,\n",
    "#excepto aquellos divisibles entre 100 pero no entre 400.\n",
    "if year % 4 == 0:\n",
    "     if year %100 != 0:\n",
    "          print (\"El año\", year, \"es bisiesto\")\n",
    "     elif year %400 == 0:\n",
    "          print (\"El año\", year, \"es bisiesto\")\n",
    "     else:\n",
    "          print (\"El año\", year, \"no es bisiesto\")   \n",
    "else:\n",
    "     print (\"El año\", year, \"no es bisiesto\")"
   ]
  },
  {
   "cell_type": "markdown",
   "metadata": {},
   "source": [
    "## Estructuras de control iterativas"
   ]
  },
  {
   "cell_type": "markdown",
   "metadata": {},
   "source": [
    "### Bucle While"
   ]
  },
  {
   "cell_type": "markdown",
   "metadata": {},
   "source": [
    "Puede hacer que un bloque de código se ejecute una y otra vez con una sentencia while. La cláusula de código en un tiempo se ejecutará siempre y cuando la condición de la sentencia while sea True. Un ejemplo:"
   ]
  },
  {
   "cell_type": "code",
   "execution_count": 9,
   "metadata": {
    "collapsed": false
   },
   "outputs": [
    {
     "name": "stdout",
     "output_type": "stream",
     "text": [
      "No debo llevar física con robinson\n",
      "No debo llevar física con robinson\n",
      "No debo llevar física con robinson\n",
      "No debo llevar física con robinson\n",
      "No debo llevar física con robinson\n"
     ]
    }
   ],
   "source": [
    "cont = 0\n",
    "while cont < 5:\n",
    "    print('No debo llevar física con robinson')\n",
    "    cont = cont + 1"
   ]
  },
  {
   "cell_type": "markdown",
   "metadata": {},
   "source": [
    "Puede ver que una sentencia while es similar a una sentencia if. La diferencia está en cómo se comportan. Al final de una cláusula if, la ejecución del programa continúa después de la instrucción if. Pero al final de la cláusula while, la ejecución del programa vuelve al principio de la sentencia while. La cláusula while a menudo se denomina loop while."
   ]
  },
  {
   "cell_type": "markdown",
   "metadata": {},
   "source": [
    "![Alt text](images/flujo4.png \"El diagrama de flujo de una sentencia if ,elif,else\")"
   ]
  },
  {
   "cell_type": "markdown",
   "metadata": {},
   "source": [
    "### Un bucle infinito... D:"
   ]
  },
  {
   "cell_type": "markdown",
   "metadata": {},
   "source": [
    "En este ejemplo pediremos al usuario que ingrese su contraseña si es correcta el bucle terminará de lo contrario el bucle continuara"
   ]
  },
  {
   "cell_type": "code",
   "execution_count": 10,
   "metadata": {
    "collapsed": false
   },
   "outputs": [
    {
     "name": "stdout",
     "output_type": "stream",
     "text": [
      "Por favor ingrese su contraseña: \n",
      "123\n",
      "Por favor ingrese su contraseña: \n",
      "1412\n",
      "Por favor ingrese su contraseña: \n",
      "1234\n",
      "Por favor ingrese su contraseña: \n",
      "12345\n",
      "Por fin...!\n"
     ]
    }
   ],
   "source": [
    "password = ''\n",
    "while password != '12345':\n",
    "    print('Por favor ingrese su contraseña: ')\n",
    "    password = input()\n",
    "print('Por fin...!')"
   ]
  },
  {
   "cell_type": "markdown",
   "metadata": {},
   "source": [
    "#### Sentencia Break"
   ]
  },
  {
   "cell_type": "markdown",
   "metadata": {},
   "source": [
    "Hay un atajo para que la ejecución del programa salga de la cláusula de un loop antes. Si en la ejecución del programa encuentra una instrucción break, sale inmediatamente de la cláusula while loop. En código, una instrucción break simplemente contiene la palabra clave break.\n",
    "Un ejemplo:"
   ]
  },
  {
   "cell_type": "code",
   "execution_count": 11,
   "metadata": {
    "collapsed": false
   },
   "outputs": [
    {
     "name": "stdout",
     "output_type": "stream",
     "text": [
      "Por favor ingrese su nombre\n",
      "Claudia\n",
      "Por favor ingrese su nombre\n",
      "Katherine\n",
      "Por favor ingrese su nombre\n",
      "Rose\n",
      "Bye! !\n"
     ]
    }
   ],
   "source": [
    "while True:\n",
    "    print('Por favor ingrese su nombre')\n",
    "    name = input()\n",
    "    if name == 'Rose':\n",
    "        break\n",
    "print('Bye! !')"
   ]
  },
  {
   "cell_type": "markdown",
   "metadata": {},
   "source": [
    "#### Sentencia Continue"
   ]
  },
  {
   "cell_type": "markdown",
   "metadata": {},
   "source": [
    "Al igual que las sentencias break, las sentencias continue se usan dentro de bucles. Cuando la ejecución del programa llega a la instruccion continue, la ejecución del programa inmediatamente salta de nuevo al inicio del bucle y reevalúa la condición del bucle. (Esto es también lo que sucede cuando la ejecución llega al final del bucle.)"
   ]
  },
  {
   "cell_type": "code",
   "execution_count": 12,
   "metadata": {
    "collapsed": false
   },
   "outputs": [
    {
     "name": "stdout",
     "output_type": "stream",
     "text": [
      "Ingrese su nombre: \n",
      "Katia\n",
      "Ingrese su nombre: \n",
      "Vilma\n",
      "Ingrese su nombre: \n",
      "Milagros\n",
      "Hola Milagros, por favor ingresa tu contraseña: \n",
      "hola\n",
      "Ingrese su nombre: \n",
      "Milagros\n",
      "Hola Milagros, por favor ingresa tu contraseña: \n",
      "contraseña\n",
      "Bienvenido a su cuenta bancaria\n"
     ]
    }
   ],
   "source": [
    "while True:\n",
    "    print('Ingrese su nombre: ')\n",
    "    name = input()\n",
    "    if name != 'Milagros':\n",
    "        continue\n",
    "    print('Hola Milagros, por favor ingresa tu contraseña: ')\n",
    "    password = input()\n",
    "    if password == 'contraseña':\n",
    "        break\n",
    "print('Bienvenido a su cuenta bancaria')"
   ]
  },
  {
   "cell_type": "markdown",
   "metadata": {},
   "source": [
    "### Bucle For"
   ]
  },
  {
   "cell_type": "markdown",
   "metadata": {},
   "source": [
    "El bucle while sigue en bucle mientras que su condición sea True (que es la razón de su nombre), pero ¿y si quieres ejecutar un bloque de código sólo un cierto número de veces? Puede hacer esto con una instrucción for loop y la función range ()."
   ]
  },
  {
   "cell_type": "code",
   "execution_count": 13,
   "metadata": {
    "collapsed": false
   },
   "outputs": [
    {
     "name": "stdout",
     "output_type": "stream",
     "text": [
      "No debo jugar dota (0)\n",
      "No debo jugar dota (1)\n",
      "No debo jugar dota (2)\n",
      "No debo jugar dota (3)\n",
      "No debo jugar dota (4)\n",
      "No debo jugar dota (5)\n",
      "No debo jugar dota (6)\n",
      "No debo jugar dota (7)\n"
     ]
    }
   ],
   "source": [
    "for i in range(8):\n",
    "    print('No debo jugar dota (' + str(i) + ')')"
   ]
  },
  {
   "cell_type": "markdown",
   "metadata": {
    "collapsed": true
   },
   "source": [
    "El código en la cláusula del bucle for se ejecuta 8 veces. La primera vez que se ejecuta, la variable i se pone a 0. La llamada print () en la cláusula imprimirá No debo jugar dota (0). Después de que Python termine una iteración a través de todo el código dentro de la cláusula de loop for, la ejecución vuelve a la parte superior del bucle y la instrucción for incrementa i por uno. Esta es la razón por la cual el rango (8) da lugar a 8 iteraciones a través de la cláusula, con i siendo puesto a 0, luego 1, luego 2, etc.... La variable i subirá, pero no incluirá, el entero pasado a range ()."
   ]
  },
  {
   "cell_type": "markdown",
   "metadata": {},
   "source": [
    "![Alt text](images/flujo5.png \"El diagrama de flujo de una sentencia if ,elif,else\")"
   ]
  },
  {
   "cell_type": "markdown",
   "metadata": {},
   "source": [
    "Hagamos un ejercicio algo matemático como hallar una serie:\n",
    "\n",
    "$$ S_{n} = \\sum_{i=1}^{n} \\frac{1}{k^2} $$"
   ]
  },
  {
   "cell_type": "code",
   "execution_count": 14,
   "metadata": {
    "collapsed": false
   },
   "outputs": [
    {
     "name": "stdout",
     "output_type": "stream",
     "text": [
      "1.6348839001848923\n"
     ]
    }
   ],
   "source": [
    "sum = 0\n",
    "\n",
    "for x in range (1,100):\n",
    "    sum = sum + (1.0 / (x*x))\n",
    "\n",
    "print(sum)"
   ]
  },
  {
   "cell_type": "markdown",
   "metadata": {},
   "source": [
    "La funcion range tiene por argumentos 3 parametros ( inicio,fin, pasos)"
   ]
  },
  {
   "cell_type": "code",
   "execution_count": 15,
   "metadata": {
    "collapsed": false
   },
   "outputs": [
    {
     "name": "stdout",
     "output_type": "stream",
     "text": [
      "2\n",
      "4\n",
      "6\n",
      "8\n"
     ]
    }
   ],
   "source": [
    "for i in range (2,10,2):\n",
    "    print(i)"
   ]
  },
  {
   "cell_type": "code",
   "execution_count": 16,
   "metadata": {
    "collapsed": false
   },
   "outputs": [
    {
     "name": "stdout",
     "output_type": "stream",
     "text": [
      "20\n",
      "18\n",
      "16\n",
      "14\n",
      "12\n",
      "10\n",
      "8\n",
      "6\n",
      "4\n",
      "2\n"
     ]
    }
   ],
   "source": [
    "for i in range (20,0,-2):\n",
    "    print(i)"
   ]
  },
  {
   "cell_type": "code",
   "execution_count": 17,
   "metadata": {
    "collapsed": true
   },
   "outputs": [],
   "source": [
    "for i in range(5, -1, 1):\n",
    "    print(i)"
   ]
  },
  {
   "cell_type": "markdown",
   "metadata": {},
   "source": [
    "¿Qué paso? ... el inicio es en 5 y el fin -1 pero como los pasos son crecientes, jamás se cumplirá la condición es decir no se ejecutará el print"
   ]
  },
  {
   "cell_type": "markdown",
   "metadata": {},
   "source": [
    "## Importando Módulos"
   ]
  },
  {
   "cell_type": "markdown",
   "metadata": {},
   "source": [
    "Todos los programas de Python pueden llamar a un conjunto básico de funciones llamadas funciones integradas o incorporadas, incluyendo las funciones print (), input () y len () que has visto antes. Python también viene con un conjunto de módulos llamados la biblioteca estándar. Cada módulo es un programa Python que contiene un grupo relacionado de funciones que se pueden incrustar en sus programas. Por ejemplo, el módulo matemático tiene funciones relacionadas con las matemáticas, el módulo aleatorio tiene funciones relacionadas con números aleatorios, y así sucesivamente."
   ]
  },
  {
   "cell_type": "code",
   "execution_count": 18,
   "metadata": {
    "collapsed": false
   },
   "outputs": [
    {
     "data": {
      "text/plain": [
       "3.0"
      ]
     },
     "execution_count": 18,
     "metadata": {},
     "output_type": "execute_result"
    }
   ],
   "source": [
    "#la función sqrt nos da la raíz cuadrada\n",
    "import math\n",
    "\n",
    "math.sqrt(9)"
   ]
  },
  {
   "cell_type": "code",
   "execution_count": 19,
   "metadata": {
    "collapsed": false
   },
   "outputs": [
    {
     "name": "stdout",
     "output_type": "stream",
     "text": [
      "2\n",
      "7\n",
      "9\n",
      "5\n",
      "6\n"
     ]
    }
   ],
   "source": [
    "# rand.int nos permite generar un numero aleatorio entre 1-10\n",
    "import random\n",
    "for i in range(5):\n",
    "    print(random.randint(1, 10))"
   ]
  }
 ],
 "metadata": {
  "kernelspec": {
   "display_name": "Python 3",
   "language": "python",
   "name": "python3"
  },
  "language_info": {
   "codemirror_mode": {
    "name": "ipython",
    "version": 3
   },
   "file_extension": ".py",
   "mimetype": "text/x-python",
   "name": "python",
   "nbconvert_exporter": "python",
   "pygments_lexer": "ipython3",
   "version": "3.5.2"
  }
 },
 "nbformat": 4,
 "nbformat_minor": 1
}
