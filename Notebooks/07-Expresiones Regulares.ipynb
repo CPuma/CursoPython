{
 "cells": [
  {
   "cell_type": "markdown",
   "metadata": {},
   "source": [
    "# 7. Expresiones Regulares\n",
    "----------------------------\n",
    "\n"
   ]
  },
  {
   "cell_type": "markdown",
   "metadata": {},
   "source": [
    " Hoy en día el procesamiento de texto  se ha convertido en una tarea cotidiana para la programación, para el cerebro humano tal vez esto parezca una tarea trivial pero para las computadoras es dificil detectar que es un número y que es una letra, por ello para que una máquina sea capaz de realizar una busqueda de subcadenas o patrones dentro de otras cadenas de texto de manera eficiente y rápida se usan las __expresiones regulares__.\n",
    " \n",
    "Las expresiones regulares, también conocidas como __'regex'__ o __'regexp'__, son patrones de búsqueda definidos con una sintaxis formal. Siempre que sigamos sus reglas, podremos realizar búsquedas simples y avanzadas, que utilizadas en conjunto con otras funcionalidades, las vuelven una de las opciones más útiles e importantes de cualquier lenguaje.\n",
    "\n",
    "Las expresiones regulares en Python pueden ser accedidas usando el módulo __re__, el cual es parte de la biblioteca estándar. Luego de que se haya definido una expresión regular, la función re.match puede ser utilizada para ver si corresponder al principio de una cadena. Si se encuentra una correspondencia, match devuelve un objeto que represente la coincidencia, si no, devuelve __None__."
   ]
  },
  {
   "cell_type": "markdown",
   "metadata": {},
   "source": [
    "Ejemplo de una expresión regular\n",
    "![](https://relopezbriega.github.io/images/regex.png)"
   ]
  },
  {
   "cell_type": "markdown",
   "metadata": {},
   "source": [
    "## Componentes de las Expresiones Regulares\n",
    "\n",
    "Las expresiones regulares son un mini lenguaje en sí mismo, por lo que para poder utilizarlas eficientemente primero debemos entender los componentes de su sintaxis; ellos son:\n",
    "\n",
    "* __Literales__: viene a ser una secuencia de caracteres sin significado especial puede ser un conjunto de palabras.\n",
    "* __Secuencias de escape__: Las secuencias de escape como en muchos lenguajes de programación como el salto de linea __\\n__ el tabulador __\\t__ y otros\n",
    "* __Metacaracteres__: Los metacaracteres son caracteres especiales que son la esencia de las expresiones regulares. \n",
    "* __Clases de caracteres__: Se pueden especificar clases de caracteres encerrando una lista de caracteres entre corchetes [], la que que encontrará uno cualquiera de los caracteres de la lista. Si el primer símbolo después del \"[\" es \"^\", la clase encuentra cualquier caracter que no está en la lista.\n",
    "\n",
    "### Metacaracteres\n",
    "\n",
    "Se conoce como metacaracteres a aquellos que, dependiendo del contexto, tienen un significado especial para las expresiones regulares. Por lo tanto, los debemos escapar colocándoles una contrabarra () delante para buscarlos explícitamente.\n",
    "\n",
    "#### Metacaracteres - delimitadores\n",
    "Esta clase de metacaracteres nos permite delimitar dónde queremos buscar los patrones de búsqueda. Ellos son\n",
    "\n",
    "| Metacaracter        | Descripciónn          |\n",
    "| ------------- |:-------------:|\n",
    "|   ^   | inicio de linea |\n",
    "|   $   | fin de linea |\n",
    "|   \\A  | inicio de texto |\n",
    "|   \\Z   | fin de texto |\n",
    "|  .   | cualquier caracter en la línea |\n",
    "|  \\b   | encuentra límite de palabra |\n",
    "|  \\B  | encuentra distinto a límite de palabra |\n",
    "\n",
    "#### Metacaracteres - clases predefinidas\n",
    "\n",
    "Estas son clases predefinidas que nos facilitan la utilización de las expresiones regulares. Ellos son:\n",
    "\n",
    "| Metacaracter        | Descripciónn          |\n",
    "| ------------- |:-------------:|\n",
    "|   \\w  | \tun caracter alfanumérico (incluye \"_\") |\n",
    "|   \\W   | un caracter no alfanumérico |\n",
    "|  \\d   | un caracter numérico |\n",
    "|  \\D  | un caracter no numérico |\n",
    "|  \\s   | cualquier espacio (lo mismo que [ \\t\\n\\r\\f]) |\n",
    "|  \\S  | un no espacio |\n",
    "\n",
    "#### Metacaracteres - iteradores\n",
    "\n",
    "Cualquier elemento de una expresion regular puede ser seguido por otro tipo de metacaracteres, los iteradores. Usando estos metacaracteres se puede especificar el número de ocurrencias del caracter previo, de un metacaracter o de una subexpresión. Ellos son:\n",
    "\n",
    "| Metacaracter        | Descripciónn          |\n",
    "| ------------- |:-------------:|\n",
    "|* |\tcero o más, similar a {0,}|\n",
    "|+ |\tuna o más, similar a {1,}|\n",
    "|? |\tcero o una, similar a {0,1}|\n",
    "|{n} |\texactamente n veces|\n",
    "|{n,} |\tpor lo menos n veces|\n",
    "|{n,m} |\tpor lo menos n pero no más de m veces|\n",
    "|*? |\tcero o más, similar a {0,}?|\n",
    "|+? |\tuna o más, similar a {1,}?|\n",
    "|?? |\tcero o una, similar a {0,1}?|\n",
    "|{n}? |\texactamente n veces|\n",
    "|{n,}? |\tpor lo menos n veces|\n",
    "|{n,m}? |\tpor lo menos n pero no más de m veces|\n",
    "\n",
    "En estos metacaracteres, los dígitos entre llaves de la forma {n,m}, especifican el mínimo número de ocurrencias en n y el máximo en m.\n",
    "\n",
    "\n"
   ]
  },
  {
   "cell_type": "markdown",
   "metadata": {},
   "source": [
    "Ahora si empecemos, vamos a usar  la librería estandar de Python podemos encontrar el módulo re, el cual nos proporciona todas las operaciones necesarias para trabajar con las expresiones regulares."
   ]
  },
  {
   "cell_type": "code",
   "execution_count": 1,
   "metadata": {
    "collapsed": true
   },
   "outputs": [],
   "source": [
    "# importando el modulo de regex de python\n",
    "import re  "
   ]
  },
  {
   "cell_type": "markdown",
   "metadata": {},
   "source": [
    "### Ahora vamos a probar buscando cadenas en un string"
   ]
  },
  {
   "cell_type": "code",
   "execution_count": 2,
   "metadata": {},
   "outputs": [
    {
     "name": "stdout",
     "output_type": "stream",
     "text": [
      "Se ha encontrado la palabra: Python\n",
      "<_sre.SRE_Match object; span=(40, 46), match='Python'>\n"
     ]
    }
   ],
   "source": [
    "texto = \"Bienvenido al curso de programación con Python\"\n",
    "\n",
    "palabra = \"Python\"\n",
    "res = re.search(palabra, texto)\n",
    "\n",
    "if res:\n",
    "    print(\"Se ha encontrado la palabra: \" + palabra)\n",
    "else:\n",
    "    print(\"La palabra: \"+ palabra + \" no se encuentra en el texto\") # En caso de no encontrar nos retornara None\n",
    "    \n",
    "print(res)"
   ]
  },
  {
   "cell_type": "markdown",
   "metadata": {},
   "source": [
    "Vemos que el resultado es un objeto de tipo __Match__, vamos a explorar algunos de sus métodos:"
   ]
  },
  {
   "cell_type": "code",
   "execution_count": 3,
   "metadata": {},
   "outputs": [
    {
     "name": "stdout",
     "output_type": "stream",
     "text": [
      "40\n",
      "46\n",
      "(40, 46)\n",
      "Bienvenido al curso de programación con Python\n"
     ]
    }
   ],
   "source": [
    "print( res.start() )  # Posición donde empieza la coincidencia\n",
    "print( res.end() )    # Posición donde termina la coincidencia\n",
    "print( res.span() )   # Tupla con posiciones donde empieza y termina la coincidencia\n",
    "print( res.string )   # Cadena sobre la que se ha realizado la búsqueda"
   ]
  },
  {
   "cell_type": "code",
   "execution_count": 4,
   "metadata": {
    "collapsed": true
   },
   "outputs": [],
   "source": [
    "texto = \"\"\"\n",
    "Hoy en día programar es una carrera entre los ingenieros\n",
    "del software intentando construir mayores y mejores programas\n",
    "a prueba de idiotas, y el Universo tratando de producir mayores\n",
    "y mejores idiotas. Por ahora, el Universo va ganando. \n",
    "Rich Cook\n",
    "\"\"\""
   ]
  },
  {
   "cell_type": "markdown",
   "metadata": {},
   "source": [
    "Ahora vamos a buscar usando expresiones regulares pero para ello debemos compilar nuestra expresión regular en un __objeto de patrones__ de python:"
   ]
  },
  {
   "cell_type": "code",
   "execution_count": 5,
   "metadata": {},
   "outputs": [
    {
     "data": {
      "text/plain": [
       "_sre.SRE_Pattern"
      ]
     },
     "execution_count": 5,
     "metadata": {},
     "output_type": "execute_result"
    }
   ],
   "source": [
    "# compilando la regex\n",
    "patron = re.compile(r'\\bUniverso\\b')  # busca la palabra Universo\n",
    "type(patron)"
   ]
  },
  {
   "cell_type": "markdown",
   "metadata": {},
   "source": [
    "Ahora que ya tenemos el objeto de expresión regular compilado podemos utilizar alguno de los siguientes métodos para buscar coincidencias con nuestro texto."
   ]
  },
  {
   "cell_type": "markdown",
   "metadata": {},
   "source": [
    "#### match()\n",
    "\n",
    "Determina si la regex tiene coincidencias en el comienzo del texto."
   ]
  },
  {
   "cell_type": "code",
   "execution_count": 6,
   "metadata": {},
   "outputs": [
    {
     "name": "stdout",
     "output_type": "stream",
     "text": [
      "None\n"
     ]
    }
   ],
   "source": [
    "# match nos devuelve None porque no hubo coincidencia al comienzo del texto\n",
    "print(patron.match(texto))"
   ]
  },
  {
   "cell_type": "code",
   "execution_count": 7,
   "metadata": {},
   "outputs": [
    {
     "data": {
      "text/plain": [
       "<_sre.SRE_Match object; span=(0, 8), match='Universo'>"
      ]
     },
     "execution_count": 7,
     "metadata": {},
     "output_type": "execute_result"
    }
   ],
   "source": [
    "# match encuentra una coindencia en el comienzo del texto\n",
    "t = patron.match('Universo 9 ha sido eliminado')\n",
    "t"
   ]
  },
  {
   "cell_type": "markdown",
   "metadata": {},
   "source": [
    "#### search()\n",
    "\n",
    "Escanea todo el texto buscando cualquier ubicación donde haya una coincidencia."
   ]
  },
  {
   "cell_type": "code",
   "execution_count": 8,
   "metadata": {},
   "outputs": [
    {
     "data": {
      "text/plain": [
       "<_sre.SRE_Match object; span=(146, 154), match='Universo'>"
      ]
     },
     "execution_count": 8,
     "metadata": {},
     "output_type": "execute_result"
    }
   ],
   "source": [
    "s = patron.search(texto)\n",
    "s"
   ]
  },
  {
   "cell_type": "markdown",
   "metadata": {},
   "source": [
    "#### findall()\n",
    "\n",
    "Encuentra todos los subtextos donde haya una coincidencia y nos devuelve estas coincidencias como una lista."
   ]
  },
  {
   "cell_type": "code",
   "execution_count": 9,
   "metadata": {},
   "outputs": [
    {
     "data": {
      "text/plain": [
       "['Universo', 'Universo']"
      ]
     },
     "execution_count": 9,
     "metadata": {},
     "output_type": "execute_result"
    }
   ],
   "source": [
    "# findall nos devuelve una lista con todas las coincidencias\n",
    "q = patron.findall(texto)\n",
    "q"
   ]
  },
  {
   "cell_type": "markdown",
   "metadata": {},
   "source": [
    "#### finditer()\n",
    "Es similar al anterior pero en lugar de devolvernos una lista nos devuelve un iterador."
   ]
  },
  {
   "cell_type": "code",
   "execution_count": 10,
   "metadata": {},
   "outputs": [
    {
     "data": {
      "text/plain": [
       "<callable_iterator at 0x7f84004125c0>"
      ]
     },
     "execution_count": 10,
     "metadata": {},
     "output_type": "execute_result"
    }
   ],
   "source": [
    "itera = patron.finditer(texto)\n",
    "itera"
   ]
  },
  {
   "cell_type": "code",
   "execution_count": 11,
   "metadata": {},
   "outputs": [
    {
     "data": {
      "text/plain": [
       "<_sre.SRE_Match object; span=(146, 154), match='Universo'>"
      ]
     },
     "execution_count": 11,
     "metadata": {},
     "output_type": "execute_result"
    }
   ],
   "source": [
    "# iterando por las distintas coincidencias\n",
    "next(itera)"
   ]
  },
  {
   "cell_type": "code",
   "execution_count": 12,
   "metadata": {},
   "outputs": [
    {
     "data": {
      "text/plain": [
       "<_sre.SRE_Match object; span=(217, 225), match='Universo'>"
      ]
     },
     "execution_count": 12,
     "metadata": {},
     "output_type": "execute_result"
    }
   ],
   "source": [
    "next(itera)"
   ]
  },
  {
   "cell_type": "markdown",
   "metadata": {},
   "source": [
    "## Modificación de texto mediante el uso de expresiones regulares"
   ]
  },
  {
   "cell_type": "markdown",
   "metadata": {},
   "source": [
    "Python nos permite tambien modificar textos mediante el uso de métodos especiales usando expresiones regulares:"
   ]
  },
  {
   "cell_type": "code",
   "execution_count": 13,
   "metadata": {
    "collapsed": true
   },
   "outputs": [],
   "source": [
    "# texto de entrada\n",
    "poema = \"\"\"Si te sueño porque te quiero,\n",
    "si te necesito porque te quiero, \n",
    "si te pienso porque te quiero,\n",
    "si te añoro porque te quiero,\n",
    "¡Te quiero porque te quiero!.\n",
    "Y te quiero porque eres tú.\"\"\""
   ]
  },
  {
   "cell_type": "code",
   "execution_count": 14,
   "metadata": {
    "collapsed": true
   },
   "outputs": [],
   "source": [
    "# patron para dividir donde no encuentre un caracter alfanumerico\n",
    "patron = re.compile(r'\\W+')"
   ]
  },
  {
   "cell_type": "markdown",
   "metadata": {},
   "source": [
    "### método split()\n",
    "\n",
    "Divide el texto en una lista, realizando las divisiones del texto en cada lugar donde se cumple con la expresion regular."
   ]
  },
  {
   "cell_type": "code",
   "execution_count": 15,
   "metadata": {},
   "outputs": [
    {
     "data": {
      "text/plain": [
       "['Si',\n",
       " 'te',\n",
       " 'sueño',\n",
       " 'porque',\n",
       " 'te',\n",
       " 'quiero',\n",
       " 'si',\n",
       " 'te',\n",
       " 'necesito',\n",
       " 'porque',\n",
       " 'te',\n",
       " 'quiero',\n",
       " 'si',\n",
       " 'te',\n",
       " 'pienso',\n",
       " 'porque',\n",
       " 'te',\n",
       " 'quiero',\n",
       " 'si',\n",
       " 'te',\n",
       " 'añoro',\n",
       " 'porque',\n",
       " 'te',\n",
       " 'quiero',\n",
       " 'Te',\n",
       " 'quiero',\n",
       " 'porque',\n",
       " 'te',\n",
       " 'quiero',\n",
       " 'Y',\n",
       " 'te',\n",
       " 'quiero',\n",
       " 'porque',\n",
       " 'eres',\n",
       " 'tú',\n",
       " '']"
      ]
     },
     "execution_count": 15,
     "metadata": {},
     "output_type": "execute_result"
    }
   ],
   "source": [
    "# Vemos que al separar no toma en cuenta las comas ni los signos de puntuación\n",
    "# Ya que hemos especificado que solo tome en cuenta los caracteres alfanumericos\n",
    "palabras = patron.split(poema)\n",
    "palabras"
   ]
  },
  {
   "cell_type": "code",
   "execution_count": 16,
   "metadata": {},
   "outputs": [
    {
     "data": {
      "text/plain": [
       "['Si te sueño porque te quiero,',\n",
       " 'si te necesito porque te quiero, ',\n",
       " 'si te pienso porque te quiero,',\n",
       " 'si te añoro porque te quiero,',\n",
       " '¡Te quiero porque te quiero!.',\n",
       " 'Y te quiero porque eres tú.']"
      ]
     },
     "execution_count": 16,
     "metadata": {},
     "output_type": "execute_result"
    }
   ],
   "source": [
    "# Utilizando la version no compilada de split.\n",
    "re.split(r'\\n', poema)  # Dividiendo por linea."
   ]
  },
  {
   "cell_type": "markdown",
   "metadata": {},
   "source": [
    "### Método sub()\n",
    "\n",
    "Encuentra todos los subtextos donde existe una coincidencia con la expresion regular y luego los reemplaza con un nuevo texto."
   ]
  },
  {
   "cell_type": "code",
   "execution_count": 17,
   "metadata": {},
   "outputs": [
    {
     "name": "stdout",
     "output_type": "stream",
     "text": [
      "Si te sueño porque me gustas,\n",
      "si te necesito porque me gustas, \n",
      "si te pienso porque me gustas,\n",
      "si te añoro porque me gustas,\n",
      "¡me gustas porque me gustas!.\n",
      "Y me gustas porque eres tú.\n"
     ]
    }
   ],
   "source": [
    "# Cambiando \"Te quiero\" o \"te quiero\" por \"me gustas\"\n",
    "old = re.compile(r'\\b(T|t)e quiero\\b')\n",
    "cambio = old.sub(\"me gustas\", poema)\n",
    "print(cambio)"
   ]
  },
  {
   "cell_type": "markdown",
   "metadata": {},
   "source": [
    "## Ahora veamos el uso de los metacaracteres con iteradores"
   ]
  },
  {
   "cell_type": "code",
   "execution_count": 18,
   "metadata": {
    "collapsed": true
   },
   "outputs": [],
   "source": [
    "# Nuestra función nos ayudará a encontrar las palabras que cumplan con nuestro patron\n",
    "\n",
    "def encuentra_patron(lista, frase):\n",
    "   \n",
    "    for item in lista:\n",
    "        print ('Buscando la frase: %r' %item)\n",
    "        print (re.findall(item, frase))\n",
    "        print ('\\n')"
   ]
  },
  {
   "cell_type": "code",
   "execution_count": 19,
   "metadata": {
    "collapsed": true
   },
   "outputs": [],
   "source": [
    "frase = 'aHaH.. aaaHHH... aHHHaHHH...HaHa...maaaaa...aHHHH'"
   ]
  },
  {
   "cell_type": "code",
   "execution_count": 20,
   "metadata": {
    "collapsed": true
   },
   "outputs": [],
   "source": [
    "lista_patrones = [  'aH*',       # a seguido de cero o más H\n",
    "                              'aH+',       # a seguido por una o más  H\n",
    "                              'aH?',       # a seguido por cero o un H\n",
    "                              'aH{3}',     # a seguido por tres H\n",
    "                              'aH{2,3}',   # a seguido por dos a tres H\n",
    "                            ]"
   ]
  },
  {
   "cell_type": "code",
   "execution_count": 21,
   "metadata": {
    "scrolled": true
   },
   "outputs": [
    {
     "name": "stdout",
     "output_type": "stream",
     "text": [
      "Buscando la frase: 'aH*'\n",
      "['aH', 'aH', 'a', 'a', 'aHHH', 'aHHH', 'aHHH', 'aH', 'a', 'a', 'a', 'a', 'a', 'a', 'aHHHH']\n",
      "\n",
      "\n",
      "Buscando la frase: 'aH+'\n",
      "['aH', 'aH', 'aHHH', 'aHHH', 'aHHH', 'aH', 'aHHHH']\n",
      "\n",
      "\n",
      "Buscando la frase: 'aH?'\n",
      "['aH', 'aH', 'a', 'a', 'aH', 'aH', 'aH', 'aH', 'a', 'a', 'a', 'a', 'a', 'a', 'aH']\n",
      "\n",
      "\n",
      "Buscando la frase: 'aH{3}'\n",
      "['aHHH', 'aHHH', 'aHHH', 'aHHH']\n",
      "\n",
      "\n",
      "Buscando la frase: 'aH{2,3}'\n",
      "['aHHH', 'aHHH', 'aHHH', 'aHHH']\n",
      "\n",
      "\n"
     ]
    }
   ],
   "source": [
    "encuentra_patron(lista_patrones, frase)"
   ]
  },
  {
   "cell_type": "code",
   "execution_count": 22,
   "metadata": {
    "collapsed": true
   },
   "outputs": [],
   "source": [
    "frase = 'La vida Puede sEr muy Dificil, Pero siemPre Tienes quE Levantarte y Seguir Adelante'\n",
    "\n",
    "lista_patrones2 = [ '[a-z]+',       # Secuencia de letras minusculas\n",
    "                            '[A-Z]+',         # Secuencia de letras mayusculas\n",
    "                            '[a-zA-Z]+',    # Secuencia de letras minusculas y mayusculas \n",
    "                            '[A-Z][a-z]+']  # Palabras con letra mayuscula seguida de una letra minuscula"
   ]
  },
  {
   "cell_type": "code",
   "execution_count": 23,
   "metadata": {},
   "outputs": [
    {
     "name": "stdout",
     "output_type": "stream",
     "text": [
      "Buscando la frase: '[a-z]+'\n",
      "['a', 'vida', 'uede', 's', 'r', 'muy', 'ificil', 'ero', 'siem', 're', 'ienes', 'qu', 'evantarte', 'y', 'eguir', 'delante']\n",
      "\n",
      "\n",
      "Buscando la frase: '[A-Z]+'\n",
      "['L', 'P', 'E', 'D', 'P', 'P', 'T', 'E', 'L', 'S', 'A']\n",
      "\n",
      "\n",
      "Buscando la frase: '[a-zA-Z]+'\n",
      "['La', 'vida', 'Puede', 'sEr', 'muy', 'Dificil', 'Pero', 'siemPre', 'Tienes', 'quE', 'Levantarte', 'y', 'Seguir', 'Adelante']\n",
      "\n",
      "\n",
      "Buscando la frase: '[A-Z][a-z]+'\n",
      "['La', 'Puede', 'Er', 'Dificil', 'Pero', 'Pre', 'Tienes', 'Levantarte', 'Seguir', 'Adelante']\n",
      "\n",
      "\n"
     ]
    }
   ],
   "source": [
    "encuentra_patron(lista_patrones2, frase)"
   ]
  },
  {
   "cell_type": "markdown",
   "metadata": {
    "collapsed": true
   },
   "source": [
    "## Veamos algunos ejemplos"
   ]
  },
  {
   "cell_type": "markdown",
   "metadata": {},
   "source": [
    "### 1. Validando que el campo ingresado sea un correo"
   ]
  },
  {
   "cell_type": "code",
   "execution_count": 24,
   "metadata": {
    "collapsed": true
   },
   "outputs": [],
   "source": [
    "# compilando la regex\n",
    "correo = re.compile(r'\\b[\\w.%+-]+@[\\w.-]+\\.[a-zA-Z]{2,6}\\b')  # busca los correos"
   ]
  },
  {
   "cell_type": "code",
   "execution_count": 25,
   "metadata": {},
   "outputs": [
    {
     "name": "stdout",
     "output_type": "stream",
     "text": [
      "Ingrese su correo:142qasd@uni.asd1\n",
      "El correo ingresado es incorrecto\n",
      "Ingrese su correo:maybeThisWorks@test.se\n",
      "Bienvenido\n"
     ]
    }
   ],
   "source": [
    "while True:\n",
    "    correo_input = input(\"Ingrese su correo:\")\n",
    "    if(correo.match(correo_input)):\n",
    "        print(\"Bienvenido\")\n",
    "        break\n",
    "    else:\n",
    "        print(\"El correo ingresado es incorrecto\")"
   ]
  },
  {
   "cell_type": "markdown",
   "metadata": {
    "collapsed": true
   },
   "source": [
    "### 2. Validando que las URL sean https"
   ]
  },
  {
   "cell_type": "code",
   "execution_count": 26,
   "metadata": {},
   "outputs": [
    {
     "name": "stdout",
     "output_type": "stream",
     "text": [
      "<_sre.SRE_Match object; span=(0, 41), match='https://github.com/gersongams/CursoPython'>\n"
     ]
    }
   ],
   "source": [
    "# Validando una URL\n",
    "url = re.compile(r\"^(https?:\\/\\/)?([\\da-z\\.-]+)\\.([a-z\\.]{2,6})([\\/\\w \\.-]*)*\\/?$\")\n",
    "\n",
    "# vemos que https://github.com/gersongams/CursoPython lo acepta como una url válida.\n",
    "print(url.search(\"https://github.com/gersongams/CursoPython\"))"
   ]
  },
  {
   "cell_type": "code",
   "execution_count": 27,
   "metadata": {},
   "outputs": [
    {
     "name": "stdout",
     "output_type": "stream",
     "text": [
      "None\n"
     ]
    }
   ],
   "source": [
    "# Veamos si funciona con\n",
    "print(url.search(\"https://github.com/gersongams/This?is?A?URL\"))"
   ]
  },
  {
   "cell_type": "markdown",
   "metadata": {},
   "source": [
    "### 3. Validando una dirección IP"
   ]
  },
  {
   "cell_type": "code",
   "execution_count": 28,
   "metadata": {
    "collapsed": true
   },
   "outputs": [],
   "source": [
    "# Validando una dirección IP\n",
    "patron = ('^(?:(?:25[0-5]|2[0-4][0-9]|'\n",
    "                '[01]?[0-9][0-9]?)\\.){3}'\n",
    "                '(?:25[0-5]|2[0-4][0-9]|[01]?[0-9][0-9]?)$')\n",
    "\n",
    "ip = re.compile(patron)\n",
    "\n",
    "listaIP = [\"255.255.255.255\",\n",
    "               \"256.0.0.255\",\n",
    "               \"192.168.12.51\",\n",
    "               \"0.0.0.1\",\n",
    "               \"182.156.256.1\"\n",
    "               \"1.0.0.0\",\n",
    "               \"255.256.1.1\"]"
   ]
  },
  {
   "cell_type": "code",
   "execution_count": 29,
   "metadata": {},
   "outputs": [
    {
     "name": "stdout",
     "output_type": "stream",
     "text": [
      "255.255.255.255 Es una ip correcta\n",
      "256.0.0.255 Es una ip incorrecta\n",
      "192.168.12.51 Es una ip correcta\n",
      "0.0.0.1 Es una ip correcta\n",
      "182.156.256.11.0.0.0 Es una ip incorrecta\n",
      "255.256.1.1 Es una ip incorrecta\n"
     ]
    }
   ],
   "source": [
    "for item in listaIP:\n",
    "    if(ip.match(item)):\n",
    "        print(item + \" Es una ip correcta\")\n",
    "    else:\n",
    "        print(item + \" Es una ip incorrecta\")"
   ]
  },
  {
   "cell_type": "markdown",
   "metadata": {},
   "source": [
    "Este material es una adaptación del blog de: \n",
    "\n",
    "https://relopezbriega.github.io/blog/2015/07/19/expresiones-regulares-con-python/"
   ]
  },
  {
   "cell_type": "code",
   "execution_count": 30,
   "metadata": {},
   "outputs": [
    {
     "data": {
      "text/html": [
       "<link href='http://fonts.googleapis.com/css?family=Source+Sans+Pro|Josefin+Sans:400,700,400italic|Ubuntu+Condensed' rel='stylesheet' type='text/css'>\n",
       "Estilo aplicado\n",
       "<style>\n",
       "\n",
       "\n",
       "\n",
       "#notebook_panel { /* main background */\n",
       "    background: #f7f7f7;\n",
       "}\n",
       "\n",
       "div.cell { /* set cell width */\n",
       "    width: 1000px;\n",
       "}\n",
       "\n",
       "div #notebook { /* centre the content */\n",
       "    background: #fff; /* white background for content */\n",
       "    width: 1100px;\n",
       "    margin: auto;\n",
       "    padding-left: 0em;\n",
       "}\n",
       "\n",
       "#notebook li { /* More space between bullet points */\n",
       "    margin-top:0.6em;\n",
       "}\n",
       "\n",
       "/* draw border around running cells */\n",
       "div.cell.border-box-sizing.code_cell.running { \n",
       "    border: 1px solid #111;\n",
       "}\n",
       "\n",
       "/* Put a solid color box around each cell and its output, visually linking them*/\n",
       "div.cell.code_cell {\n",
       "    font-family: 'Source Sans Pro', sans-serif;\n",
       "    background-color: rgb(256,256,256);\n",
       "    font-size: 110%;\n",
       "    border-radius: 0px; \n",
       "    padding: 0.5em;\n",
       "    margin-left:1em;\n",
       "    margin-top: 1em;\n",
       "}\n",
       "\n",
       "div.text_cell_render{\n",
       "    font-family: 'Josefin Sans', serif;\n",
       "    line-height: 145%;\n",
       "    font-size: 125%;\n",
       "    font-weight: 500;\n",
       "    width:850px;\n",
       "    margin-left:auto;\n",
       "    margin-right:auto;\n",
       "}\n",
       "\n",
       "\n",
       "/* Formatting for header cells */\n",
       ".text_cell_render h1, .text_cell_render h2, .text_cell_render h3,\n",
       ".text_cell_render h4, .text_cell_render h5 {\n",
       "    font-family: 'Ubuntu Condensed', sans-serif;\n",
       "}\n",
       "/*\n",
       ".text_cell_render h1 {\n",
       "    font-family: Flux, 'Ubuntu Condensed', serif;\n",
       "    font-style:regular;\n",
       "    font-weight: 400;    \n",
       "    font-size: 30pt;\n",
       "    text-align: center;\n",
       "    line-height: 100%;\n",
       "    color: #335082;\n",
       "    margin-bottom: 0.5em;\n",
       "    margin-top: 0.5em;\n",
       "    display: block;\n",
       "}\n",
       "*/\n",
       ".text_cell_render h1 {\n",
       "\tfont-family: Flux, 'Ubuntu Condensed', serif;\n",
       "    font-style:regular;\n",
       "    font-weight: 600;\n",
       "    font-size: 35pt;\n",
       "\ttext-align: center;\n",
       "    line-height: 100%;\n",
       "    color: #2c7638;\n",
       "    margin-bottom: 0.2em;\n",
       "    margin-top: 0.3em;\n",
       "    display: block;\n",
       "}\n",
       "\n",
       ".text_cell_render h2 {\n",
       "    margin-top:16px;\n",
       "    font-size: 27pt;\n",
       "    font-weight: 550;\n",
       "    margin-bottom: 0.1em;\n",
       "    margin-top: 0.3em;\n",
       "    font-style: regular;\n",
       "    color: #498550\t;\n",
       "}\t\n",
       "\n",
       ".text_cell_render h3 {\n",
       "    font-size: 20pt;\n",
       "    font-weight: 550\n",
       "    text-align: left;\n",
       "    margin-bottom: 0.1em;\n",
       "    margin-top: 0.3em;\n",
       "    font-style: regular;\n",
       "    color:  #1a66ab;\n",
       "}\n",
       "\n",
       ".text_cell_render h4 {    /*Use this for captions*/\n",
       "    font-size: 18pt;\n",
       "    font-weight: 450\n",
       "    text-align: left;\n",
       "    margin-bottom: 0.1em;\n",
       "    margin-top: 0.3em;\n",
       "    font-style: regular;\n",
       "    color:  #578cb4;\n",
       "}\n",
       "\n",
       ".text_cell_render h5 {  /*Use this for small titles*/\n",
       "    font-size: 18pt;\n",
       "    font-weight: 550;\n",
       "    color: rgb(163,0,0);\n",
       "    font-style: italic;\n",
       "    margin-bottom: .1em;\n",
       "    margin-top: 0.8em;\n",
       "    display: block;\n",
       "    color:  #b21c0d;\n",
       "}\n",
       "\n",
       ".text_cell_render h6 { /*use this for copyright note*/\n",
       "    font-family: 'Ubuntu Condensed', sans-serif;\n",
       "    font-weight: 300;\n",
       "    font-size: 14pt;\n",
       "    line-height: 100%;\n",
       "    color: #252525;\n",
       "    text-align: right;\n",
       "    margin-bottom: 1px;\n",
       "    margin-top: 1px;\n",
       "}\n",
       "\n",
       ".CodeMirror{\n",
       "        font-family: 'Duru Sans', sans-serif;\n",
       "        font-size: 100%;\n",
       "}\n",
       "\n",
       "</style>\n",
       "<script>\n",
       "    MathJax.Hub.Config({\n",
       "                        TeX: {\n",
       "                           extensions: [\"AMSmath.js\"],\n",
       "                           equationNumbers: { autoNumber: \"AMS\", useLabelIds: true}\n",
       "                           },\n",
       "                tex2jax: {\n",
       "                    inlineMath: [ ['$','$'], [\"\\\\(\",\"\\\\)\"] ],\n",
       "                    displayMath: [ ['$$','$$'], [\"\\\\[\",\"\\\\]\"] ]\n",
       "                },\n",
       "                displayAlign: 'center', // Change this to 'center' to center equations.\n",
       "                \"HTML-CSS\": {\n",
       "                    styles: {'.MathJax_Display': {\"margin\": 4}}\n",
       "                }\n",
       "        });\n",
       "</script>\n"
      ],
      "text/plain": [
       "<IPython.core.display.HTML object>"
      ]
     },
     "execution_count": 30,
     "metadata": {},
     "output_type": "execute_result"
    }
   ],
   "source": [
    "# Esta celda da el estilo al notebook\n",
    "from IPython.core.display import HTML\n",
    "css_file = '../styles/StyleCursoPython.css'\n",
    "HTML(open(css_file, \"r\").read())"
   ]
  }
 ],
 "metadata": {
  "kernelspec": {
   "display_name": "Python 3",
   "language": "python",
   "name": "python3"
  },
  "language_info": {
   "codemirror_mode": {
    "name": "ipython",
    "version": 3
   },
   "file_extension": ".py",
   "mimetype": "text/x-python",
   "name": "python",
   "nbconvert_exporter": "python",
   "pygments_lexer": "ipython3",
   "version": "3.6.3"
  }
 },
 "nbformat": 4,
 "nbformat_minor": 1
}
