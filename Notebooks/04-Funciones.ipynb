{
 "cells": [
  {
   "cell_type": "markdown",
   "metadata": {},
   "source": [
    "# 4. Funciones\n",
    "\n",
    "Como en cualquier otro lenguaje, en Python también es posible definir funciones, es decir, secuencias de enunciados que reciben ciertos datos, ejecutan algunas operaciones sobre ellos y devuelven un resultado.\n",
    "\n",
    "![Alt text](../images/function.png \"Optional title\")\n",
    "\n"
   ]
  },
  {
   "cell_type": "markdown",
   "metadata": {},
   "source": [
    "Ya hemos usado anteriormente funciones como:"
   ]
  },
  {
   "cell_type": "code",
   "execution_count": 1,
   "metadata": {},
   "outputs": [
    {
     "name": "stdout",
     "output_type": "stream",
     "text": [
      "3\n",
      "6\n"
     ]
    }
   ],
   "source": [
    "print(abs(-3))\n",
    "print(round(6.25))"
   ]
  },
  {
   "cell_type": "markdown",
   "metadata": {},
   "source": [
    "Pero como hacemos para definir nuestras propias funciones?\n",
    "\n",
    "En Python, las funciones se definen mediante la instrucción **`def`** más un nombre de función, aplican las mismas reglas que para el nombre de las variables, seguido de paréntesis de apertura y cierre. Como toda estructura de control en Python, la definición de la función finaliza con dos puntos (:) y el algoritmo que la compone, irá identado con __4 espacios:__"
   ]
  },
  {
   "cell_type": "code",
   "execution_count": 2,
   "metadata": {},
   "outputs": [],
   "source": [
    "def funcion_saludo(): \n",
    "    print(\"Hola\")"
   ]
  },
  {
   "cell_type": "markdown",
   "metadata": {},
   "source": [
    "Una función, no es ejecutada hasta tanto no sea invocada. Para invocar una función, simplemente se la llama por su nombre:"
   ]
  },
  {
   "cell_type": "code",
   "execution_count": 3,
   "metadata": {},
   "outputs": [
    {
     "name": "stdout",
     "output_type": "stream",
     "text": [
      "Hola\n"
     ]
    }
   ],
   "source": [
    "funcion_saludo()"
   ]
  },
  {
   "cell_type": "markdown",
   "metadata": {},
   "source": [
    "También podemos pasarle argumentos de cualquier tipo:"
   ]
  },
  {
   "cell_type": "code",
   "execution_count": 4,
   "metadata": {},
   "outputs": [
    {
     "name": "stdout",
     "output_type": "stream",
     "text": [
      "Hola Olenka\n"
     ]
    }
   ],
   "source": [
    "def funcion_saludo2(name): #name viene a ser el parámetro de la función\n",
    "    print(\"Hola \" + name)\n",
    "    \n",
    "funcion_saludo2(\"Olenka\")"
   ]
  },
  {
   "cell_type": "markdown",
   "metadata": {},
   "source": [
    "Las funciones de vez en cuando suelen retornar algo:"
   ]
  },
  {
   "cell_type": "code",
   "execution_count": 5,
   "metadata": {},
   "outputs": [
    {
     "data": {
      "text/plain": [
       "49"
      ]
     },
     "execution_count": 5,
     "metadata": {},
     "output_type": "execute_result"
    }
   ],
   "source": [
    "def cuadrado(x):\n",
    "    return x*x\n",
    "\n",
    "cuadrado(7)"
   ]
  },
  {
   "cell_type": "code",
   "execution_count": 6,
   "metadata": {},
   "outputs": [
    {
     "name": "stdout",
     "output_type": "stream",
     "text": [
      "45\n",
      "13.5\n"
     ]
    }
   ],
   "source": [
    "def funcion_suma(n):\n",
    "    return n+10 #return hace que la función retorne algo en este caso un entero o flotante\n",
    "\n",
    "k = funcion_suma(35)\n",
    "print(k)\n",
    "t = funcion_suma(3.5)\n",
    "print(t)"
   ]
  },
  {
   "cell_type": "markdown",
   "metadata": {},
   "source": [
    "En Python, también es posible llamar a una función, pasándole los argumentos esperados, como pares de claves=valor:"
   ]
  },
  {
   "cell_type": "code",
   "execution_count": 7,
   "metadata": {},
   "outputs": [
    {
     "name": "stdout",
     "output_type": "stream",
     "text": [
      "HolaMaria\n",
      "Adios Carla\n"
     ]
    }
   ],
   "source": [
    "def saludar(nombre, mensaje='Hola'): \n",
    "    print(mensaje + nombre)\n",
    "    \n",
    "saludar(\"Maria\")\n",
    "saludar(\"Carla\",\"Adios \")"
   ]
  },
  {
   "cell_type": "markdown",
   "metadata": {},
   "source": [
    "### Algunos ejemplos de funciones"
   ]
  },
  {
   "cell_type": "markdown",
   "metadata": {},
   "source": [
    "Ahora hallaremos la multiplicacion de los numeros de una lista:"
   ]
  },
  {
   "cell_type": "code",
   "execution_count": 8,
   "metadata": {},
   "outputs": [
    {
     "name": "stdout",
     "output_type": "stream",
     "text": [
      "-240\n"
     ]
    }
   ],
   "source": [
    "def multipl(numbers):  \n",
    "    total = 1\n",
    "    for x in numbers:\n",
    "        total *= x  \n",
    "    return total  \n",
    "print(multipl((3,8,2,1,-5)))"
   ]
  },
  {
   "cell_type": "markdown",
   "metadata": {},
   "source": [
    "Una función para imprimir una cadena al revés"
   ]
  },
  {
   "cell_type": "code",
   "execution_count": 9,
   "metadata": {},
   "outputs": [
    {
     "name": "stdout",
     "output_type": "stream",
     "text": [
      "dcba12345\n"
     ]
    }
   ],
   "source": [
    "def invertir_cadena(str1):\n",
    "    rstr1 = ''\n",
    "    index = len(str1)\n",
    "    while index > 0:\n",
    "        rstr1 += str1[ index - 1 ]\n",
    "        index = index - 1\n",
    "    return rstr1\n",
    "\n",
    "print(invertir_cadena('54321abcd'))"
   ]
  },
  {
   "cell_type": "markdown",
   "metadata": {},
   "source": [
    "Una funcion que dada una lista con numeros repetidos, esta función los elimine dando una funcion con numeros únicos:"
   ]
  },
  {
   "cell_type": "code",
   "execution_count": 10,
   "metadata": {},
   "outputs": [
    {
     "name": "stdout",
     "output_type": "stream",
     "text": [
      "[1, 2, 3, 5]\n"
     ]
    }
   ],
   "source": [
    "def lista_unica(l):\n",
    "    x = []\n",
    "    for a in l:\n",
    "        if a not in x:\n",
    "            x.append(a)\n",
    "    return x\n",
    "\n",
    "print(lista_unica([1,1,2,2,2,3,3,3,3,5])) "
   ]
  },
  {
   "cell_type": "markdown",
   "metadata": {},
   "source": [
    "Programa para saber si un numero es perfecto o no"
   ]
  },
  {
   "cell_type": "code",
   "execution_count": 11,
   "metadata": {},
   "outputs": [
    {
     "name": "stdout",
     "output_type": "stream",
     "text": [
      "True\n"
     ]
    }
   ],
   "source": [
    "def perfect_number(n):\n",
    "    sum = 0\n",
    "    for x in range(1, n):\n",
    "        if n % x == 0:\n",
    "            sum += x\n",
    "    return sum == n\n",
    "print(perfect_number(6)) "
   ]
  },
  {
   "cell_type": "markdown",
   "metadata": {},
   "source": [
    "Ahora una ultima funcion que verifica si una palabra es palíndrome (se lee igual de izquierda a derecha)"
   ]
  },
  {
   "cell_type": "code",
   "execution_count": 12,
   "metadata": {},
   "outputs": [
    {
     "name": "stdout",
     "output_type": "stream",
     "text": [
      "True\n"
     ]
    }
   ],
   "source": [
    "def isPalindrome(string):\n",
    "    left_pos = 0\n",
    "    right_pos = len(string) - 1\n",
    "    \n",
    "    while right_pos >= left_pos:\n",
    "        if not string[left_pos] == string[right_pos]:\n",
    "            return False\n",
    "        left_pos += 1\n",
    "        right_pos -= 1\n",
    "    return True\n",
    "print(isPalindrome('reconocer')) "
   ]
  },
  {
   "cell_type": "markdown",
   "metadata": {},
   "source": [
    "### Variables locales\n",
    "\n",
    "Si no se han declarado como globales o no locales, las variables a las que se asigna valor en una función se consideran variables locales, es decir, sólo existen en la propia función, incluso cuando en el programa exista una variable con el mismo nombre, como muestra el siguiente ejemplo:"
   ]
  },
  {
   "cell_type": "code",
   "execution_count": 13,
   "metadata": {},
   "outputs": [
    {
     "name": "stdout",
     "output_type": "stream",
     "text": [
      "10\n",
      "16\n"
     ]
    }
   ],
   "source": [
    "def imprime():\n",
    "    x = 10\n",
    "    print(x)\n",
    "\n",
    "x = 16\n",
    "imprime()\n",
    "print(x)"
   ]
  },
  {
   "cell_type": "markdown",
   "metadata": {},
   "source": [
    "Las variables locales sólo existen en la propia función y no son accesibles desde niveles superiores, como puede verse en el siguiente ejemplo:"
   ]
  },
  {
   "cell_type": "code",
   "execution_count": 14,
   "metadata": {},
   "outputs": [
    {
     "name": "stdout",
     "output_type": "stream",
     "text": [
      "6\n"
     ]
    },
    {
     "ename": "NameError",
     "evalue": "name 'y' is not defined",
     "output_type": "error",
     "traceback": [
      "\u001b[0;31m---------------------------------------------------------------------------\u001b[0m",
      "\u001b[0;31mNameError\u001b[0m                                 Traceback (most recent call last)",
      "\u001b[0;32m<ipython-input-14-54822bc7c896>\u001b[0m in \u001b[0;36m<module>\u001b[0;34m()\u001b[0m\n\u001b[1;32m      4\u001b[0m \u001b[0;34m\u001b[0m\u001b[0m\n\u001b[1;32m      5\u001b[0m \u001b[0mtest\u001b[0m\u001b[0;34m(\u001b[0m\u001b[0;34m)\u001b[0m\u001b[0;34m\u001b[0m\u001b[0m\n\u001b[0;32m----> 6\u001b[0;31m \u001b[0mprint\u001b[0m\u001b[0;34m(\u001b[0m\u001b[0my\u001b[0m\u001b[0;34m)\u001b[0m\u001b[0;34m\u001b[0m\u001b[0m\n\u001b[0m",
      "\u001b[0;31mNameError\u001b[0m: name 'y' is not defined"
     ]
    }
   ],
   "source": [
    "def test():\n",
    "    y = 6\n",
    "    print(y)\n",
    "\n",
    "test()\n",
    "print(y)"
   ]
  },
  {
   "cell_type": "markdown",
   "metadata": {},
   "source": [
    "Si en el interior de una función se asigna valor a una variable que no se ha declarado como global o no local, esa variable es local a todos los efectos. Por ello el siguiente programa da error:"
   ]
  },
  {
   "cell_type": "code",
   "execution_count": 15,
   "metadata": {},
   "outputs": [
    {
     "ename": "UnboundLocalError",
     "evalue": "local variable 'i' referenced before assignment",
     "output_type": "error",
     "traceback": [
      "\u001b[0;31m---------------------------------------------------------------------------\u001b[0m",
      "\u001b[0;31mUnboundLocalError\u001b[0m                         Traceback (most recent call last)",
      "\u001b[0;32m<ipython-input-15-5b1b1cf76b44>\u001b[0m in \u001b[0;36m<module>\u001b[0;34m()\u001b[0m\n\u001b[1;32m      5\u001b[0m \u001b[0;34m\u001b[0m\u001b[0m\n\u001b[1;32m      6\u001b[0m \u001b[0mi\u001b[0m \u001b[0;34m=\u001b[0m \u001b[0;36m5\u001b[0m\u001b[0;34m\u001b[0m\u001b[0m\n\u001b[0;32m----> 7\u001b[0;31m \u001b[0mfunc_test\u001b[0m\u001b[0;34m(\u001b[0m\u001b[0;34m)\u001b[0m\u001b[0;34m\u001b[0m\u001b[0m\n\u001b[0m\u001b[1;32m      8\u001b[0m \u001b[0mprint\u001b[0m\u001b[0;34m(\u001b[0m\u001b[0mi\u001b[0m\u001b[0;34m)\u001b[0m\u001b[0;34m\u001b[0m\u001b[0m\n",
      "\u001b[0;32m<ipython-input-15-5b1b1cf76b44>\u001b[0m in \u001b[0;36mfunc_test\u001b[0;34m()\u001b[0m\n\u001b[1;32m      1\u001b[0m \u001b[0;32mdef\u001b[0m \u001b[0mfunc_test\u001b[0m\u001b[0;34m(\u001b[0m\u001b[0;34m)\u001b[0m\u001b[0;34m:\u001b[0m\u001b[0;34m\u001b[0m\u001b[0m\n\u001b[0;32m----> 2\u001b[0;31m     \u001b[0mprint\u001b[0m\u001b[0;34m(\u001b[0m\u001b[0mi\u001b[0m\u001b[0;34m)\u001b[0m\u001b[0;34m\u001b[0m\u001b[0m\n\u001b[0m\u001b[1;32m      3\u001b[0m     \u001b[0mi\u001b[0m \u001b[0;34m=\u001b[0m \u001b[0;36m8\u001b[0m\u001b[0;34m\u001b[0m\u001b[0m\n\u001b[1;32m      4\u001b[0m     \u001b[0mprint\u001b[0m\u001b[0;34m(\u001b[0m\u001b[0mi\u001b[0m\u001b[0;34m)\u001b[0m\u001b[0;34m\u001b[0m\u001b[0m\n\u001b[1;32m      5\u001b[0m \u001b[0;34m\u001b[0m\u001b[0m\n",
      "\u001b[0;31mUnboundLocalError\u001b[0m: local variable 'i' referenced before assignment"
     ]
    }
   ],
   "source": [
    "def func_test():\n",
    "    print(i)\n",
    "    i = 8\n",
    "    print(i)\n",
    "\n",
    "i = 5\n",
    "func_test()\n",
    "print(i)"
   ]
  },
  {
   "cell_type": "markdown",
   "metadata": {},
   "source": [
    "### Variables libres globales o no locales\n",
    "\n",
    "Si a una variable no se le asigna valor en una función, Python la considera libre y busca su valor en los niveles superiores de esa función, empezando por el inmediatamente superior y continuando hasta el programa principal. Si a la variable se le asigna valor en algún nivel intermedio la variable se considera no local y si se le asigna en el programa principal la variable se considera global, como muestran los siguientes ejemplos:"
   ]
  },
  {
   "cell_type": "code",
   "execution_count": 16,
   "metadata": {},
   "outputs": [
    {
     "name": "stdout",
     "output_type": "stream",
     "text": [
      "5\n",
      "5\n"
     ]
    }
   ],
   "source": [
    "# En el ejemplo siguiente, la variable libre \"a\" de la función subrutina() \n",
    "# se considera global porque obtiene su valor del programa principal:\n",
    "\n",
    "def subrutina():\n",
    "    print(a)\n",
    "\n",
    "a = 5\n",
    "subrutina()\n",
    "print(a)"
   ]
  },
  {
   "cell_type": "markdown",
   "metadata": {},
   "source": [
    "En el ejemplo siguiente, la variable libre \"a\" de la función sub_subrutina() se considera no local porque obtiene su valor de una función intermedia:"
   ]
  },
  {
   "cell_type": "code",
   "execution_count": 17,
   "metadata": {},
   "outputs": [
    {
     "name": "stdout",
     "output_type": "stream",
     "text": [
      "3\n",
      "3\n",
      "4\n"
     ]
    }
   ],
   "source": [
    "def subrutina():\n",
    "    def sub_subrutina():\n",
    "        print(a)\n",
    "\n",
    "    a = 3\n",
    "    sub_subrutina()\n",
    "    print(a)\n",
    "\n",
    "a = 4\n",
    "subrutina()\n",
    "print(a)"
   ]
  },
  {
   "cell_type": "markdown",
   "metadata": {},
   "source": [
    "### Variables declaradas global o nonlocal\n",
    "\n",
    "Si queremos asignar valor a una variable en una subrutina, pero no queremos que Python la considere local, debemos declararla en la función como global o nonlocal, como muestran los ejemplos siguientes:\n",
    "\n",
    "En el ejemplo siguiente la variable se declara como global, para que su valor sea el del programa principal:"
   ]
  },
  {
   "cell_type": "code",
   "execution_count": 18,
   "metadata": {},
   "outputs": [
    {
     "name": "stdout",
     "output_type": "stream",
     "text": [
      "5\n",
      "1\n"
     ]
    }
   ],
   "source": [
    "def subrutina():\n",
    "    global a\n",
    "    print(a)\n",
    "    a = 1\n",
    "    return\n",
    "\n",
    "a = 5\n",
    "subrutina()\n",
    "print(a)"
   ]
  },
  {
   "cell_type": "markdown",
   "metadata": {},
   "source": [
    "En el ejemplo siguiente la variable se declara como nonlocal, para que su valor sea el de la función intermedia:\n"
   ]
  },
  {
   "cell_type": "code",
   "execution_count": 19,
   "metadata": {},
   "outputs": [
    {
     "name": "stdout",
     "output_type": "stream",
     "text": [
      "3\n",
      "1\n",
      "4\n"
     ]
    }
   ],
   "source": [
    "def subrutina():\n",
    "    def sub_subrutina():\n",
    "        nonlocal a\n",
    "        print(a)\n",
    "        a = 1\n",
    "        return\n",
    "\n",
    "    a = 3\n",
    "    sub_subrutina()\n",
    "    print(a)\n",
    "    return\n",
    "\n",
    "a = 4\n",
    "subrutina()\n",
    "print(a)"
   ]
  },
  {
   "cell_type": "markdown",
   "metadata": {},
   "source": [
    "### Argumentos y devolución de valores\n",
    "\n",
    "Las funciones en Python admiten argumentos en su llamada y permiten devolver valores. Estas posiblidades permiten crear funciones más útiles y fácilmente reutilizables.\n",
    "En este apartado se muestran estos conceptos mediante cuatro ejemplos. En ellos, no se pretende encontrar la mejor solución al problema planteado, sino simplemente introducir los conceptos de argumentos y devolución de valores.\n",
    "\n",
    "Aunque las funciones en Python pueden acceder a cualquier variable del programa declarándolas como variables globales o no locales, se necesita saber el nombre de las variables, como muestra el ejemplo siguiente:\n"
   ]
  },
  {
   "cell_type": "code",
   "execution_count": 20,
   "metadata": {},
   "outputs": [
    {
     "name": "stdout",
     "output_type": "stream",
     "text": [
      "La media de 3 y 5 es: 4.0\n",
      "Programa terminado\n"
     ]
    }
   ],
   "source": [
    "def escribe_media():\n",
    "    media = (a + b) / 2\n",
    "    print(\"La media de\", a, \"y\", b, \"es:\", media)\n",
    "    return \n",
    "\n",
    "a = 3\n",
    "b = 5\n",
    "escribe_media()\n",
    "print(\"Programa terminado\")"
   ]
  },
  {
   "cell_type": "markdown",
   "metadata": {},
   "source": [
    "El problema de una función de este tipo es que es muy difícil de reutilizar en otros programas o incluso en el mismo programa, ya que sólo es capaz de hacer la media de las variables \"a\" y \"b\". Si en el programa no se utilizan esos nombres de variables, la función no funcionaría.\n",
    "Para evitar ese problema, las funciones admiten argumentos, es decir, permiten que se les envíen valores con los que trabajar. De esa manera, las funciones se pueden reutilizar más fácilmente, como muestra el ejemplo siguiente:"
   ]
  },
  {
   "cell_type": "code",
   "execution_count": 21,
   "metadata": {},
   "outputs": [
    {
     "name": "stdout",
     "output_type": "stream",
     "text": [
      "La media de 3 y 5 es: 4.0\n",
      "Programa terminado\n"
     ]
    }
   ],
   "source": [
    "def escribe_media(x, y):\n",
    "    media = (x + y) / 2\n",
    "    print(\"La media de\", x, \"y\", y, \"es:\", media)\n",
    "    return\n",
    "\n",
    "a = 3\n",
    "b = 5\n",
    "escribe_media(a, b)\n",
    "print(\"Programa terminado\")"
   ]
  },
  {
   "cell_type": "markdown",
   "metadata": {},
   "source": [
    "Esta función tiene todavía un inconveniente. Como las variables locales de una función son inaccesibles desde los niveles superiores, el programa principal no puede utilizar la variable \"media\" calculada por la función y tiene que ser la función la que escriba el valor. Pero eso complica la reutilización de la función, porque aunque es probable que en otro programa nos interese una función que calcule la media, es más difícil que nos interese que escriba el valor nada más calcularlo.\n",
    "Para evitar ese problema, las funciones pueden devolver valores, es decir, pueden enviar valores al programa o función de nivel superior. De esa manera, las funciones se pueden reutilizar más fácilmente, como muestra el ejemplo siguiente:"
   ]
  },
  {
   "cell_type": "code",
   "execution_count": 22,
   "metadata": {},
   "outputs": [
    {
     "name": "stdout",
     "output_type": "stream",
     "text": [
      "La media de 3 y 5 es: 4.0\n",
      "Programa terminado\n"
     ]
    }
   ],
   "source": [
    "def calcula_media(x, y):\n",
    "    resultado = (x + y) / 2\n",
    "    return resultado\n",
    "\n",
    "a = 3\n",
    "b = 5\n",
    "media = calcula_media(a, b)\n",
    "print(\"La media de\", a, \"y\", b, \"es:\", media)\n",
    "print(\"Programa terminado\")"
   ]
  },
  {
   "cell_type": "markdown",
   "metadata": {},
   "source": [
    "Pero esta función tiene todavía un inconveniente y es que sólo calcula la media de dos valores. Sería más interesante que la función calculara la media de cualquier cantidad de valores.\n",
    "Para evitar ese problema, las funciones pueden admitir una cantidad indeterminada de valores, como muestra el ejemplo siguiente:\n"
   ]
  },
  {
   "cell_type": "code",
   "execution_count": 23,
   "metadata": {},
   "outputs": [
    {
     "name": "stdout",
     "output_type": "stream",
     "text": [
      "La media de 3, 5 y 10 es: 6.0\n",
      "Programa terminado\n"
     ]
    }
   ],
   "source": [
    "def calcula_media(*args):\n",
    "    total = 0\n",
    "    for i in args:\n",
    "        total += i\n",
    "    resultado = total / len(args)\n",
    "    return resultado\n",
    "\n",
    "a, b, c = 3, 5, 10\n",
    "media = calcula_media(a, b, c)\n",
    "print(\"La media de\", str(a)+\",\", b, \"y\", c, \"es:\", media)\n",
    "print(\"Programa terminado\")"
   ]
  },
  {
   "cell_type": "markdown",
   "metadata": {},
   "source": [
    "Esta última función puede ser utilizada con más flexibilidad que las anteriores, puesto que el programador puede elegir de cuántos valores hacer la media y qué hacer con el valor calculado por la función.\n",
    "Las funciones pueden devolver varios valores simultáneamente, como muestra el siguiente ejemplo:"
   ]
  },
  {
   "cell_type": "code",
   "execution_count": 24,
   "metadata": {},
   "outputs": [
    {
     "name": "stdout",
     "output_type": "stream",
     "text": [
      "Datos: 3 5 10 12\n",
      "Media: 7.5\n",
      "Desviación estándar: 3.640054944640259\n"
     ]
    }
   ],
   "source": [
    "def calcula_media_desviacion(*args): # con el simbolo * le digo a la funcion que la lista mutable\n",
    "    total = 0\n",
    "    for i in args:\n",
    "        total += i\n",
    "    media = total / len(args)\n",
    "    total = 0\n",
    "    for i in args:\n",
    "        total += (i - media) ** 2\n",
    "    desviacion = (total / len(args)) ** 0.5\n",
    "    return media, desviacion\n",
    "\n",
    "a, b, c, d = 3, 5, 10, 12\n",
    "media, desviacion_std = calcula_media_desviacion(a, b, c, d)\n",
    "print(\"Datos:\", a, b, c, d)\n",
    "print(\"Media:\", media)\n",
    "print(\"Desviación estándar:\", desviacion_std)"
   ]
  },
  {
   "cell_type": "markdown",
   "metadata": {},
   "source": [
    "Ahora vamos a ver el calculo de una integral:\n",
    "funcion = x^2\n",
    "\n",
    "$$\\int{x^2 dx}$$\n",
    "\n",
    "es equivalente a:\n",
    "\n",
    "$$\\sum_{i=0}^{n-1} \\Delta x. (a + i \\Delta x)^2$$"
   ]
  },
  {
   "cell_type": "code",
   "execution_count": 26,
   "metadata": {
    "scrolled": true
   },
   "outputs": [
    {
     "name": "stdout",
     "output_type": "stream",
     "text": [
      "ingrese el limite inferior: 1\n",
      "ingrese el limite superior: 5\n",
      "Ingrese el numero de particiones: 100000\n",
      "El resultado de la integral es 41.33285333440035\n"
     ]
    }
   ],
   "source": [
    "def integralX2(a,b,n):\n",
    "    if n==0:\n",
    "        sumatoria = 0.0\n",
    "    else: \n",
    "        delta = (b-a)/n\n",
    "        sumatoria = 0.0\n",
    "        for i in range(n):\n",
    "            sumatoria += delta * ( a + i*delta )**2\n",
    "    \n",
    "    return sumatoria\n",
    "\n",
    "start = float(input(\"ingrese el limite inferior: \"))\n",
    "end = float(input(\"ingrese el limite superior: \"))\n",
    "n_particiones = int(input(\"Ingrese el numero de particiones: \"))\n",
    "res = 0.0\n",
    "\n",
    "if end < start:\n",
    "    print(\"El primer numero debe ser menor que el segundo >:v\")\n",
    "else:\n",
    "    res = integralX2(start,end,n_particiones)\n",
    "    print(\"El resultado de la integral es {}\".format(res))"
   ]
  },
  {
   "cell_type": "markdown",
   "metadata": {},
   "source": [
    "Para cualquier funcion:"
   ]
  },
  {
   "cell_type": "code",
   "execution_count": 27,
   "metadata": {},
   "outputs": [
    {
     "name": "stdout",
     "output_type": "stream",
     "text": [
      "ingrese el limite inferior: 1\n",
      "ingrese el limite superior: 5\n",
      "Ingrese el numero de particiones: 10000\n",
      "El resultado de la integral de la funcion cuadrada es 41.328533440000044\n",
      "El resultado de la integral de la funcion cubica es 155.97520095999982\n"
     ]
    }
   ],
   "source": [
    "def fcuadrado(x):\n",
    "    return x*x\n",
    "\n",
    "def fcubica(x):\n",
    "    return x*x*x\n",
    "\n",
    "def integral(f,a,b,n):\n",
    "    if n==0:\n",
    "        sumatoria = 0.0\n",
    "    else: \n",
    "        delta = (b-a)/n\n",
    "        sumatoria = 0.0\n",
    "        for i in range(n):\n",
    "            sumatoria += delta * f( a + i*delta )\n",
    "    \n",
    "    return sumatoria\n",
    "\n",
    "start = float(input(\"ingrese el limite inferior: \"))\n",
    "end = float(input(\"ingrese el limite superior: \"))\n",
    "n_particiones = int(input(\"Ingrese el numero de particiones: \"))\n",
    "res = 0.0\n",
    "\n",
    "if end < start:\n",
    "    print(\"El primer numero debe ser menor que el segundo >:v\")\n",
    "else:\n",
    "    res = integral(fcuadrado,start,end,n_particiones)\n",
    "    print(\"El resultado de la integral de la funcion cuadrada es {}\".format(res))\n",
    "    res = integral(fcubica,start,end,n_particiones)\n",
    "    print(\"El resultado de la integral de la funcion cubica es {}\".format(res))"
   ]
  },
  {
   "cell_type": "markdown",
   "metadata": {},
   "source": [
    "### Paso por valor o paso por referencia\n",
    "\n",
    "En los lenguajes en los que las variables son \"cajas\" en las que se guardan valores, cuando se envía una variable como argumento en una llamada a una función suelen existir dos posiblidades:\n",
    "- paso por valor: se envía simplemente el valor de la variable, en cuyo caso la función no puede modificar la variable, pues la función sólo conoce su valor, pero no la variable que lo almacenaba.\n",
    "- paso por referencia: se envía la dirección de memoria de la variable, en cuyo caso la función sí que puede modificar la variable.\n",
    "\n",
    "En Python no se hace ni una cosa ni otra. En Python cuando se envía una variable como argumento en una llamada a una función lo que se envía es la referencia al objeto al que hace referencia la variable. Dependiendo de si el objeto es mutable o inmutable, la función podrá modificar o no el objeto.\n",
    "- En el ejemplo siguiente, la variable enviada a la función es una variable que hace referencia a un objeto inmutable."
   ]
  },
  {
   "cell_type": "markdown",
   "metadata": {},
   "source": [
    "<img src=\"https://blog.penjee.com/wp-content/uploads/2015/02/pass-by-reference-vs-pass-by-value-animation.gif\">"
   ]
  },
  {
   "cell_type": "code",
   "execution_count": 28,
   "metadata": {
    "scrolled": true
   },
   "outputs": [
    {
     "name": "stdout",
     "output_type": "stream",
     "text": [
      "94436591434336 94436591434368\n",
      "94436591434336\n",
      "94436591434336\n",
      "94436591434368\n",
      "4\n",
      "3\n",
      "94436591434336\n"
     ]
    }
   ],
   "source": [
    "# Ejemplo de paso de variable (objeto inmutable)\n",
    "\n",
    "def aumenta(x):\n",
    "    print(id(x))\n",
    "    x += 1\n",
    "    print(id(x))\n",
    "    return x\n",
    "\n",
    "a = 3\n",
    "print(id(3), id(4))\n",
    "print(id(a))\n",
    "print(aumenta(a))\n",
    "print(a)\n",
    "print(id(a))"
   ]
  },
  {
   "cell_type": "markdown",
   "metadata": {},
   "source": [
    "En el ejemplo siguiente, la variable enviada a la función es una variable que hace referencia a un objeto mutable."
   ]
  },
  {
   "cell_type": "code",
   "execution_count": 29,
   "metadata": {},
   "outputs": [
    {
     "name": "stdout",
     "output_type": "stream",
     "text": [
      "140345991904776\n",
      "140345991904776\n",
      "140345991904776\n",
      "[3, 1]\n",
      "[3, 1]\n",
      "140345991904776\n"
     ]
    }
   ],
   "source": [
    "# Ejemplo de paso de variable (objeto mutable)\n",
    "\n",
    "def aumenta(x):\n",
    "    print(id(x))\n",
    "    x += [1]\n",
    "    print(id(x))\n",
    "    return x\n",
    "\n",
    "a = [3]\n",
    "print(id(a))\n",
    "print(aumenta(a))\n",
    "print(a)\n",
    "print(id(a))"
   ]
  },
  {
   "cell_type": "markdown",
   "metadata": {
    "collapsed": true
   },
   "source": [
    "## Funciones recursivas\n",
    "\n",
    "Se trata de funciones que se llaman a sí mismas durante su propia ejecución. Funcionan de forma similar a las iteraciones, y debemos encargarnos de planificar el momento en que una función recursiva deja de llamarse o tendremos una función rescursiva infinita.\n",
    "\n",
    "Suele utilizarse para dividir una tarea en subtareas más simples de forma que sea más fácil abordar el problema y solucionarlo."
   ]
  },
  {
   "cell_type": "markdown",
   "metadata": {},
   "source": [
    "<img src=\"https://blog.penjee.com/wp-content/uploads/2015/04/top-5-programming-animated-gifs_recursion-animted-gif.gif\">"
   ]
  },
  {
   "cell_type": "code",
   "execution_count": 30,
   "metadata": {},
   "outputs": [],
   "source": [
    "def factorial(numero):\n",
    "    if(numero == 0 or numero == 1):\n",
    "        return 1\n",
    "    else:\n",
    "        return numero * factorial(numero-1)"
   ]
  },
  {
   "cell_type": "code",
   "execution_count": 31,
   "metadata": {},
   "outputs": [
    {
     "data": {
      "text/plain": [
       "120"
      ]
     },
     "execution_count": 31,
     "metadata": {},
     "output_type": "execute_result"
    }
   ],
   "source": [
    "factorial(5)"
   ]
  },
  {
   "cell_type": "markdown",
   "metadata": {},
   "source": [
    "Otro ejemplo, Para calcular el producto de 2 numeros de manera recursiva"
   ]
  },
  {
   "cell_type": "code",
   "execution_count": 32,
   "metadata": {},
   "outputs": [],
   "source": [
    "def Producto (m,n):\n",
    "    if m==1:\n",
    "        return n\n",
    "    else:\n",
    "        return n + Producto(m-1,n)"
   ]
  },
  {
   "cell_type": "code",
   "execution_count": 33,
   "metadata": {},
   "outputs": [
    {
     "name": "stdout",
     "output_type": "stream",
     "text": [
      "40\n"
     ]
    }
   ],
   "source": [
    "k = Producto(5,8)\n",
    "print(k)"
   ]
  },
  {
   "cell_type": "markdown",
   "metadata": {},
   "source": [
    "## Funciones Lambda\n",
    "\n",
    "Python admite la creación de __funciones anónimas__ (es decir, funciones que no están enlazadas a un nombre) en tiempo de ejecución, usando una construcción llamada __\"lambda\"__. Esto no es exactamente lo mismo que lambda en los lenguajes de programación funcional, pero es un concepto muy poderoso que está bien integrado en Python y que a menudo se utiliza junto con conceptos funcionales típicos como __`filter()`, `map()` y `reduce()`__."
   ]
  },
  {
   "cell_type": "markdown",
   "metadata": {},
   "source": [
    "Este fragmento de código muestra la diferencia entre una definición normal de la función ( \"f\") y una función lambda ( \"g\"):"
   ]
  },
  {
   "cell_type": "code",
   "execution_count": 34,
   "metadata": {},
   "outputs": [
    {
     "data": {
      "text/plain": [
       "64"
      ]
     },
     "execution_count": 34,
     "metadata": {},
     "output_type": "execute_result"
    }
   ],
   "source": [
    "def f (x): \n",
    "    return x**2\n",
    "\n",
    "f(8)"
   ]
  },
  {
   "cell_type": "code",
   "execution_count": 35,
   "metadata": {},
   "outputs": [
    {
     "data": {
      "text/plain": [
       "64"
      ]
     },
     "execution_count": 35,
     "metadata": {},
     "output_type": "execute_result"
    }
   ],
   "source": [
    "g = lambda x: x**2\n",
    "\n",
    "g(8)"
   ]
  },
  {
   "cell_type": "markdown",
   "metadata": {},
   "source": [
    "Tenga en cuenta que la definición lambda no incluye una declaración de \"retorno\" - que siempre contiene una expresión que se devuelve. "
   ]
  },
  {
   "cell_type": "code",
   "execution_count": 36,
   "metadata": {},
   "outputs": [
    {
     "name": "stdout",
     "output_type": "stream",
     "text": [
      "44 48\n"
     ]
    }
   ],
   "source": [
    "def make_incrementor (n): \n",
    "    return lambda x: x + n\n",
    "\n",
    "f = make_incrementor(2)\n",
    "g = make_incrementor(6)\n",
    "\n",
    "print (f(42), g(42))"
   ]
  },
  {
   "cell_type": "markdown",
   "metadata": {},
   "source": [
    "### Método `map()`\n",
    "\n",
    "La función __map( f(x) , list or sequence )__ aplica una función pasada a cada elemento en un objeto iterable y devuelve una lista que contiene todos los resultados de la llamada de función"
   ]
  },
  {
   "cell_type": "code",
   "execution_count": 37,
   "metadata": {},
   "outputs": [],
   "source": [
    "# Definamos una función:\n",
    "\n",
    "def sqr(x): \n",
    "    return x ** 2"
   ]
  },
  {
   "cell_type": "code",
   "execution_count": 38,
   "metadata": {
    "scrolled": true
   },
   "outputs": [
    {
     "name": "stdout",
     "output_type": "stream",
     "text": [
      "[4, 9, 16]\n"
     ]
    }
   ],
   "source": [
    "a = [2,3,4]\n",
    "print(list(map(sqr, a)))"
   ]
  },
  {
   "cell_type": "code",
   "execution_count": 39,
   "metadata": {},
   "outputs": [],
   "source": [
    "# Creamos una lista:\n",
    "foo = [2, 18, 9, 22, 17, 24, 8, 12, 27]"
   ]
  },
  {
   "cell_type": "code",
   "execution_count": 40,
   "metadata": {},
   "outputs": [
    {
     "name": "stdout",
     "output_type": "stream",
     "text": [
      "[14, 46, 28, 54, 44, 58, 26, 34, 64]\n"
     ]
    }
   ],
   "source": [
    "print (list(map(lambda x: x * 2 + 10, foo)))"
   ]
  },
  {
   "cell_type": "markdown",
   "metadata": {},
   "source": [
    "### Método `filter()`\n",
    "\n",
    "La función __filter( f(x) , list or sequence )__ como su nombre lo dice es como un filtro que llama la función para cada elemento de la secuencia, y devuelve una nueva lista que contiene solamente aquellos elementos para los que la función ha devuelto __\"True\"__. "
   ]
  },
  {
   "cell_type": "code",
   "execution_count": 41,
   "metadata": {},
   "outputs": [
    {
     "name": "stdout",
     "output_type": "stream",
     "text": [
      "[18, 9, 24, 12, 27]\n"
     ]
    }
   ],
   "source": [
    "# Creamos una lista:\n",
    "foo = [2, 18, 9, 22, 17, 24, 8, 12, 27]\n",
    "\n",
    "print (list(filter(lambda x: x % 3 == 0, foo)))"
   ]
  },
  {
   "cell_type": "code",
   "execution_count": 42,
   "metadata": {},
   "outputs": [
    {
     "data": {
      "text/plain": [
       "[-5, -4, -3, -2, -1, 0, 1, 2, 3, 4]"
      ]
     },
     "execution_count": 42,
     "metadata": {},
     "output_type": "execute_result"
    }
   ],
   "source": [
    "list(range(-5,5))"
   ]
  },
  {
   "cell_type": "code",
   "execution_count": 43,
   "metadata": {},
   "outputs": [
    {
     "data": {
      "text/plain": [
       "[-5, -4, -3, -2, -1]"
      ]
     },
     "execution_count": 43,
     "metadata": {},
     "output_type": "execute_result"
    }
   ],
   "source": [
    "list( filter((lambda x: x < 0), range(-5,5)))"
   ]
  },
  {
   "cell_type": "markdown",
   "metadata": {},
   "source": [
    "### Método `reduce()`\n",
    "\n",
    "Esta función reduce una lista a un solo valor combinando elementos a través de una función suministrada. \n",
    "\n",
    "Si seq = [s1, s2, s3, ..., sn], la llamada reduce (func, seq) funciona de la siguiente manera:\n",
    "- En primer lugar, se aplicarán los primeros dos elementos de seq a func, es decir, func (s1, s2) La lista en la que reduce () funciona ahora se ve así: [func (s1, s2), s3, ..., sn]\n",
    "- En el siguiente paso se aplicará func al resultado anterior y al tercer elemento de la lista, es decir func (func (s1, s2), s3) La lista se ve así ahora: [func (func (s1, s2), s3), ..., sn]\n",
    "- Continúe así hasta que solo quede un elemento y devuelva este elemento como resultado de reduce ()\n",
    "\n",
    "![Alt text](../images/reduce.png \"Optional title\")"
   ]
  },
  {
   "cell_type": "code",
   "execution_count": 44,
   "metadata": {},
   "outputs": [
    {
     "data": {
      "text/plain": [
       "113"
      ]
     },
     "execution_count": 44,
     "metadata": {},
     "output_type": "execute_result"
    }
   ],
   "source": [
    "from functools import reduce\n",
    "\n",
    "reduce(lambda x,y: x+y, [47,11,42,13])"
   ]
  },
  {
   "cell_type": "markdown",
   "metadata": {},
   "source": [
    "![Alt text](../images/reduce_diagram.png \"Optional title\")"
   ]
  },
  {
   "cell_type": "code",
   "execution_count": 45,
   "metadata": {},
   "outputs": [
    {
     "name": "stdout",
     "output_type": "stream",
     "text": [
      "139\n"
     ]
    }
   ],
   "source": [
    "foo = [2, 18, 9, 22, 17, 24, 8, 12, 27]\n",
    "\n",
    "print (reduce(lambda x, y: x + y, foo))"
   ]
  },
  {
   "cell_type": "code",
   "execution_count": 46,
   "metadata": {},
   "outputs": [
    {
     "data": {
      "text/plain": [
       "24"
      ]
     },
     "execution_count": 46,
     "metadata": {},
     "output_type": "execute_result"
    }
   ],
   "source": [
    "reduce( (lambda x, y: x * y), [1, 2, 3, 4] )"
   ]
  },
  {
   "cell_type": "markdown",
   "metadata": {},
   "source": [
    "## Iteradores\n",
    "\n",
    "Un iterador es un objeto que representa una corriente de datos; Este objeto devuelve los datos un elemento a la vez. Un iterador de Python debe soportar un método llamado **__`next()`__** que no toma argumentos y siempre devuelve el siguiente elemento de la secuencia. Si no hay más elementos en el flujo,** __`next()`__ ()** debe aumentar la excepción **`StopIteration`**. Sin embargo, los iteradores no tienen que ser finitos; Es perfectamente razonable escribir un iterador que produce un flujo infinito de datos.\n",
    "\n",
    "La función **`iter()`** incorporada toma un objeto arbitrario e intenta devolver un iterador que devolverá el contenido o los elementos del objeto, generando **`TypeError`** si el objeto no admite la iteración. Varios de los tipos de datos integrados de Python admiten iteración, siendo las más comunes las listas y los diccionarios. Un objeto se llama iterable si se puede obtener un iterador para ello.\n",
    "\n",
    "Puede experimentar con la interfaz de iteración manualmente:"
   ]
  },
  {
   "cell_type": "code",
   "execution_count": 47,
   "metadata": {},
   "outputs": [
    {
     "data": {
      "text/plain": [
       "<list_iterator at 0x7fa4d8fe0f98>"
      ]
     },
     "execution_count": 47,
     "metadata": {},
     "output_type": "execute_result"
    }
   ],
   "source": [
    "test = [6,3,7,2]\n",
    "it = iter(test)\n",
    "it"
   ]
  },
  {
   "cell_type": "code",
   "execution_count": 48,
   "metadata": {},
   "outputs": [
    {
     "data": {
      "text/plain": [
       "6"
      ]
     },
     "execution_count": 48,
     "metadata": {},
     "output_type": "execute_result"
    }
   ],
   "source": [
    "it.__next__()"
   ]
  },
  {
   "cell_type": "code",
   "execution_count": 49,
   "metadata": {},
   "outputs": [
    {
     "data": {
      "text/plain": [
       "3"
      ]
     },
     "execution_count": 49,
     "metadata": {},
     "output_type": "execute_result"
    }
   ],
   "source": [
    "next(it)"
   ]
  },
  {
   "cell_type": "code",
   "execution_count": 50,
   "metadata": {},
   "outputs": [
    {
     "data": {
      "text/plain": [
       "7"
      ]
     },
     "execution_count": 50,
     "metadata": {},
     "output_type": "execute_result"
    }
   ],
   "source": [
    "next(it)"
   ]
  },
  {
   "cell_type": "code",
   "execution_count": 51,
   "metadata": {},
   "outputs": [
    {
     "data": {
      "text/plain": [
       "2"
      ]
     },
     "execution_count": 51,
     "metadata": {},
     "output_type": "execute_result"
    }
   ],
   "source": [
    "next(it)"
   ]
  },
  {
   "cell_type": "code",
   "execution_count": 52,
   "metadata": {},
   "outputs": [
    {
     "ename": "StopIteration",
     "evalue": "",
     "output_type": "error",
     "traceback": [
      "\u001b[0;31m---------------------------------------------------------------------------\u001b[0m",
      "\u001b[0;31mStopIteration\u001b[0m                             Traceback (most recent call last)",
      "\u001b[0;32m<ipython-input-52-bc1ab118995a>\u001b[0m in \u001b[0;36m<module>\u001b[0;34m()\u001b[0m\n\u001b[0;32m----> 1\u001b[0;31m \u001b[0mnext\u001b[0m\u001b[0;34m(\u001b[0m\u001b[0mit\u001b[0m\u001b[0;34m)\u001b[0m\u001b[0;34m\u001b[0m\u001b[0m\n\u001b[0m",
      "\u001b[0;31mStopIteration\u001b[0m: "
     ]
    }
   ],
   "source": [
    "next(it)"
   ]
  },
  {
   "cell_type": "code",
   "execution_count": 53,
   "metadata": {},
   "outputs": [
    {
     "name": "stdout",
     "output_type": "stream",
     "text": [
      "6\n",
      "3\n",
      "7\n",
      "2\n"
     ]
    }
   ],
   "source": [
    "for i in iter(test):\n",
    "    print(i)"
   ]
  },
  {
   "cell_type": "markdown",
   "metadata": {},
   "source": [
    "Los diccionarios soportan los iteradores:"
   ]
  },
  {
   "cell_type": "code",
   "execution_count": 54,
   "metadata": {},
   "outputs": [
    {
     "name": "stdout",
     "output_type": "stream",
     "text": [
      "Jan 1\n",
      "Feb 2\n",
      "Mar 3\n",
      "Apr 4\n",
      "May 5\n",
      "Jun 6\n",
      "Jul 7\n",
      "Aug 8\n",
      "Sep 9\n",
      "Oct 10\n",
      "Nov 11\n",
      "Dec 12\n"
     ]
    }
   ],
   "source": [
    "m = {'Jan': 1, 'Feb': 2, 'Mar': 3, 'Apr': 4, 'May': 5, 'Jun': 6, 'Jul': 7, 'Aug': 8, 'Sep': 9, 'Oct': 10, 'Nov': 11, 'Dec': 12}\n",
    "\n",
    "for key in m:\n",
    "    print(key, m[key])"
   ]
  },
  {
   "cell_type": "markdown",
   "metadata": {},
   "source": [
    "## Veamos un fractal "
   ]
  },
  {
   "cell_type": "code",
   "execution_count": 55,
   "metadata": {
    "scrolled": true
   },
   "outputs": [
    {
     "data": {
      "image/png": "[encoded data removed]",
      "text/plain": [
       "<Figure size 432x288 with 1 Axes>"
      ]
     },
     "metadata": {},
     "output_type": "display_data"
    }
   ],
   "source": [
    "from math import sin, cos, pi\n",
    "import matplotlib.pyplot as plt\n",
    "%matplotlib inline\n",
    "\n",
    " \n",
    "def kochSnowFlake(l, n):\n",
    "    x_vertex1 = 0\n",
    "    y_vertex1 = 0\n",
    "     \n",
    "    x_vertex2 = l * cos ( 2 * pi/3)\n",
    "    y_vertex2 = l * sin(2 * pi/3)\n",
    "     \n",
    "    x_vertex3 = l * cos (pi/3)\n",
    "    y_vertex3 = l * sin(pi/3)\n",
    "     \n",
    "    kochCurve(x_vertex1, y_vertex1, x_vertex2, y_vertex2, n)\n",
    "    kochCurve(x_vertex2, y_vertex2, x_vertex3, y_vertex3, n)\n",
    "    kochCurve(x_vertex3, y_vertex3, x_vertex1, y_vertex1, n)\n",
    "     \n",
    "    return\n",
    "         \n",
    "def kochCurve(xi, yi, xf, yf, n):\n",
    "    if n==0:\n",
    "       plt.plot([xi,xf],[yi,yf])\n",
    "             \n",
    "    elif n>0:\n",
    "        x1 = xi + (xf - xi) / 3.0\n",
    "        y1 = yi + (yf - yi) / 3.0\n",
    " \n",
    "        x3 = xf - (xf - xi) / 3.0\n",
    "        y3 = yf - (yf - yi) / 3.0\n",
    "         \n",
    "        x2 = (x1 + x3) * cos (pi/3) - ( y3 - y1) * sin (pi/3)\n",
    "        y2 = (y1 + y3) * cos (pi/3) + ( x3 - x1) * sin (pi/3) \n",
    " \n",
    "        kochCurve(xi,yi,x1,y1,n-1)\n",
    "        kochCurve(x1,y1,x2,y2,n-1)\n",
    "        kochCurve(x2,y2,x3,y3,n-1)\n",
    "        kochCurve(x3,y3,xf,yf,n-1)\n",
    "         \n",
    "    return\n",
    "   \n",
    "plt.figure(\"Koch snowflack\")\n",
    "kochSnowFlake(200,4) # range 1 -6\n",
    "plt.show()"
   ]
  },
  {
   "cell_type": "code",
   "execution_count": 56,
   "metadata": {},
   "outputs": [
    {
     "data": {
      "text/html": [
       "<link href='http://fonts.googleapis.com/css?family=Source+Sans+Pro|Josefin+Sans:400,700,400italic|Ubuntu+Condensed' rel='stylesheet' type='text/css'>\n",
       "Estilo aplicado\n",
       "<style>\n",
       "\n",
       "\n",
       "\n",
       "#notebook_panel { /* main background */\n",
       "    background: #f7f7f7;\n",
       "}\n",
       "\n",
       "div.cell { /* set cell width */\n",
       "    width: 1000px;\n",
       "}\n",
       "\n",
       "div #notebook { /* centre the content */\n",
       "    background: #fff; /* white background for content */\n",
       "    width: 1100px;\n",
       "    margin: auto;\n",
       "    padding-left: 0em;\n",
       "}\n",
       "\n",
       "#notebook li { /* More space between bullet points */\n",
       "    margin-top:0.6em;\n",
       "}\n",
       "\n",
       "/* draw border around running cells */\n",
       "div.cell.border-box-sizing.code_cell.running { \n",
       "    border: 1px solid #111;\n",
       "}\n",
       "\n",
       "/* Put a solid color box around each cell and its output, visually linking them*/\n",
       "div.cell.code_cell {\n",
       "    font-family: 'Source Sans Pro', sans-serif;\n",
       "    background-color: rgb(256,256,256);\n",
       "    font-size: 110%;\n",
       "    border-radius: 0px; \n",
       "    padding: 0.5em;\n",
       "    margin-left:1em;\n",
       "    margin-top: 1em;\n",
       "}\n",
       "\n",
       "div.text_cell_render{\n",
       "    font-family: 'Josefin Sans', serif;\n",
       "    line-height: 145%;\n",
       "    font-size: 125%;\n",
       "    font-weight: 500;\n",
       "    width:850px;\n",
       "    margin-left:auto;\n",
       "    margin-right:auto;\n",
       "}\n",
       "\n",
       "\n",
       "/* Formatting for header cells */\n",
       ".text_cell_render h1, .text_cell_render h2, .text_cell_render h3,\n",
       ".text_cell_render h4, .text_cell_render h5 {\n",
       "    font-family: 'Ubuntu Condensed', sans-serif;\n",
       "}\n",
       "/*\n",
       ".text_cell_render h1 {\n",
       "    font-family: Flux, 'Ubuntu Condensed', serif;\n",
       "    font-style:regular;\n",
       "    font-weight: 400;    \n",
       "    font-size: 30pt;\n",
       "    text-align: center;\n",
       "    line-height: 100%;\n",
       "    color: #335082;\n",
       "    margin-bottom: 0.5em;\n",
       "    margin-top: 0.5em;\n",
       "    display: block;\n",
       "}\n",
       "*/\n",
       ".text_cell_render h1 {\n",
       "\tfont-family: Flux, 'Ubuntu Condensed', serif;\n",
       "    font-style:regular;\n",
       "    font-weight: 600;\n",
       "    font-size: 35pt;\n",
       "\ttext-align: center;\n",
       "    line-height: 100%;\n",
       "    color: #2c7638;\n",
       "    margin-bottom: 0.2em;\n",
       "    margin-top: 0.3em;\n",
       "    display: block;\n",
       "}\n",
       "\n",
       ".text_cell_render h2 {\n",
       "    margin-top:16px;\n",
       "    font-size: 27pt;\n",
       "    font-weight: 550;\n",
       "    margin-bottom: 0.1em;\n",
       "    margin-top: 0.3em;\n",
       "    font-style: regular;\n",
       "    color: #498550\t;\n",
       "}\t\n",
       "\n",
       ".text_cell_render h3 {\n",
       "    font-size: 20pt;\n",
       "    font-weight: 550\n",
       "    text-align: left;\n",
       "    margin-bottom: 0.1em;\n",
       "    margin-top: 0.3em;\n",
       "    font-style: regular;\n",
       "    color:  #1a66ab;\n",
       "}\n",
       "\n",
       ".text_cell_render h4 {    /*Use this for captions*/\n",
       "    font-size: 18pt;\n",
       "    font-weight: 450\n",
       "    text-align: left;\n",
       "    margin-bottom: 0.1em;\n",
       "    margin-top: 0.3em;\n",
       "    font-style: regular;\n",
       "    color:  #578cb4;\n",
       "}\n",
       "\n",
       ".text_cell_render h5 {  /*Use this for small titles*/\n",
       "    font-size: 18pt;\n",
       "    font-weight: 550;\n",
       "    color: rgb(163,0,0);\n",
       "    font-style: italic;\n",
       "    margin-bottom: .1em;\n",
       "    margin-top: 0.8em;\n",
       "    display: block;\n",
       "    color:  #b21c0d;\n",
       "}\n",
       "\n",
       ".text_cell_render h6 { /*use this for copyright note*/\n",
       "    font-family: 'Ubuntu Condensed', sans-serif;\n",
       "    font-weight: 300;\n",
       "    font-size: 14pt;\n",
       "    line-height: 100%;\n",
       "    color: #252525;\n",
       "    text-align: right;\n",
       "    margin-bottom: 1px;\n",
       "    margin-top: 1px;\n",
       "}\n",
       "\n",
       ".CodeMirror{\n",
       "        font-family: 'Duru Sans', sans-serif;\n",
       "        font-size: 100%;\n",
       "}\n",
       "\n",
       "</style>\n",
       "<script>\n",
       "    MathJax.Hub.Config({\n",
       "                        TeX: {\n",
       "                           extensions: [\"AMSmath.js\"],\n",
       "                           equationNumbers: { autoNumber: \"AMS\", useLabelIds: true}\n",
       "                           },\n",
       "                tex2jax: {\n",
       "                    inlineMath: [ ['$','$'], [\"\\\\(\",\"\\\\)\"] ],\n",
       "                    displayMath: [ ['$$','$$'], [\"\\\\[\",\"\\\\]\"] ]\n",
       "                },\n",
       "                displayAlign: 'center', // Change this to 'center' to center equations.\n",
       "                \"HTML-CSS\": {\n",
       "                    styles: {'.MathJax_Display': {\"margin\": 4}}\n",
       "                }\n",
       "        });\n",
       "</script>\n"
      ],
      "text/plain": [
       "<IPython.core.display.HTML object>"
      ]
     },
     "execution_count": 56,
     "metadata": {},
     "output_type": "execute_result"
    }
   ],
   "source": [
    "# Esta celda da el estilo al notebook\n",
    "from IPython.core.display import HTML\n",
    "css_file = '../styles/StyleCursoPython.css'\n",
    "HTML(open(css_file, \"r\").read())"
   ]
  }
 ],
 "metadata": {
  "kernelspec": {
   "display_name": "Python 3",
   "language": "python",
   "name": "python3"
  },
  "language_info": {
   "codemirror_mode": {
    "name": "ipython",
    "version": 3
   },
   "file_extension": ".py",
   "mimetype": "text/x-python",
   "name": "python",
   "nbconvert_exporter": "python",
   "pygments_lexer": "ipython3",
   "version": "3.6.5"
  }
 },
 "nbformat": 4,
 "nbformat_minor": 1
}
